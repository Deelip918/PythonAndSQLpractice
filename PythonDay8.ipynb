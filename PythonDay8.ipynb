{
 "cells": [
  {
   "cell_type": "code",
   "execution_count": 9,
   "id": "e3801739",
   "metadata": {},
   "outputs": [],
   "source": [
    "# https://leetcode.com/problems/plus-one/\n",
    "\n",
    "    def plusOne(digits):\n",
    "        sum=0\n",
    "        for i in digits:\n",
    "            sum=sum*10+i\n",
    "        sum=sum+1\n",
    "        rem=0\n",
    "        print(sum)\n",
    "        lst=[]\n",
    "        while(sum>0):\n",
    "            rem=sum%10\n",
    "            lst.append(rem)\n",
    "            print(lst)\n",
    "            sum=sum//10\n",
    "        print(lst)\n",
    "        lst.reverse()\n",
    "        return lst"
   ]
  },
  {
   "cell_type": "code",
   "execution_count": 10,
   "id": "90f39293",
   "metadata": {},
   "outputs": [
    {
     "name": "stdout",
     "output_type": "stream",
     "text": [
      "240\n",
      "[0]\n",
      "[0, 4]\n",
      "[0, 4, 2]\n",
      "[0, 4, 2]\n",
      "[2, 4, 0]\n"
     ]
    }
   ],
   "source": [
    "print(plusOne([2,3,9]))"
   ]
  },
  {
   "cell_type": "code",
   "execution_count": 12,
   "id": "a2dcd866",
   "metadata": {},
   "outputs": [],
   "source": [
    "dict={1:'d',5:'w',3:'c'}"
   ]
  },
  {
   "cell_type": "code",
   "execution_count": 13,
   "id": "fd6a1a15",
   "metadata": {},
   "outputs": [
    {
     "ename": "KeyError",
     "evalue": "4",
     "output_type": "error",
     "traceback": [
      "\u001b[1;31m---------------------------------------------------------------------------\u001b[0m",
      "\u001b[1;31mKeyError\u001b[0m                                  Traceback (most recent call last)",
      "\u001b[1;32m~\\AppData\\Local\\Temp\\ipykernel_8268\\3487874116.py\u001b[0m in \u001b[0;36m<module>\u001b[1;34m\u001b[0m\n\u001b[1;32m----> 1\u001b[1;33m \u001b[0mdict\u001b[0m\u001b[1;33m[\u001b[0m\u001b[1;36m4\u001b[0m\u001b[1;33m]\u001b[0m\u001b[1;33m\u001b[0m\u001b[1;33m\u001b[0m\u001b[0m\n\u001b[0m",
      "\u001b[1;31mKeyError\u001b[0m: 4"
     ]
    }
   ],
   "source": [
    "dict[4]"
   ]
  },
  {
   "cell_type": "code",
   "execution_count": 14,
   "id": "084f93a0",
   "metadata": {},
   "outputs": [
    {
     "data": {
      "text/plain": [
       "'not found'"
      ]
     },
     "execution_count": 14,
     "metadata": {},
     "output_type": "execute_result"
    }
   ],
   "source": [
    "#to handle key error get() fuction is used----get(key,default value)\n",
    "dict.get(4,'not found')"
   ]
  },
  {
   "cell_type": "code",
   "execution_count": 15,
   "id": "8ca93c91",
   "metadata": {},
   "outputs": [
    {
     "data": {
      "text/plain": [
       "'w'"
      ]
     },
     "execution_count": 15,
     "metadata": {},
     "output_type": "execute_result"
    }
   ],
   "source": [
    "dict.get(5,'not found')"
   ]
  },
  {
   "cell_type": "code",
   "execution_count": 17,
   "id": "f94b7c98",
   "metadata": {},
   "outputs": [],
   "source": [
    "# sum of dictionary values\n",
    "dict1={'a':12,'b':15,'c':22,'d':10}"
   ]
  },
  {
   "cell_type": "code",
   "execution_count": 20,
   "id": "5dbfcff0",
   "metadata": {},
   "outputs": [
    {
     "name": "stdout",
     "output_type": "stream",
     "text": [
      "59\n"
     ]
    }
   ],
   "source": [
    "sum=0\n",
    "for i in dict1:\n",
    "    sum=sum+dict1[i]\n",
    "print(sum)"
   ]
  },
  {
   "cell_type": "code",
   "execution_count": null,
   "id": "801b5f32",
   "metadata": {},
   "outputs": [],
   "source": [
    "# from keys and value to the list"
   ]
  },
  {
   "cell_type": "code",
   "execution_count": 24,
   "id": "9f94c4d1",
   "metadata": {},
   "outputs": [],
   "source": [
    "l1=[1,2,4,2,7]\n",
    "l2=[3,6,1,9,4]\n",
    "l3=[5,2,7,4,1]\n",
    "keys=[\"a\",\"b\",\"c\"]\n",
    "values=[l1,l2,l3]"
   ]
  },
  {
   "cell_type": "code",
   "execution_count": 25,
   "id": "98c237fc",
   "metadata": {},
   "outputs": [],
   "source": [
    "dictionary= {k:v for k ,v in zip(keys,values)}"
   ]
  },
  {
   "cell_type": "code",
   "execution_count": 26,
   "id": "6903e914",
   "metadata": {},
   "outputs": [
    {
     "data": {
      "text/plain": [
       "{'a': [1, 2, 4, 2, 7], 'b': [3, 6, 1, 9, 4], 'c': [5, 2, 7, 4, 1]}"
      ]
     },
     "execution_count": 26,
     "metadata": {},
     "output_type": "execute_result"
    }
   ],
   "source": [
    "dictionary"
   ]
  },
  {
   "cell_type": "code",
   "execution_count": 28,
   "id": "c49c8e28",
   "metadata": {},
   "outputs": [
    {
     "name": "stdout",
     "output_type": "stream",
     "text": [
      "a\n",
      "[1, 2, 4, 2, 7]\n",
      "b\n",
      "[3, 6, 1, 9, 4]\n",
      "c\n",
      "[5, 2, 7, 4, 1]\n"
     ]
    }
   ],
   "source": [
    "for key,value in dictionary.items():\n",
    "    print(key)\n",
    "    print(value)"
   ]
  },
  {
   "cell_type": "code",
   "execution_count": null,
   "id": "4edfb198",
   "metadata": {},
   "outputs": [],
   "source": []
  }
 ],
 "metadata": {
  "kernelspec": {
   "display_name": "Python 3 (ipykernel)",
   "language": "python",
   "name": "python3"
  },
  "language_info": {
   "codemirror_mode": {
    "name": "ipython",
    "version": 3
   },
   "file_extension": ".py",
   "mimetype": "text/x-python",
   "name": "python",
   "nbconvert_exporter": "python",
   "pygments_lexer": "ipython3",
   "version": "3.9.13"
  }
 },
 "nbformat": 4,
 "nbformat_minor": 5
}
