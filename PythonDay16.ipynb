{
 "cells": [
  {
   "cell_type": "code",
   "execution_count": 20,
   "id": "a893550d",
   "metadata": {},
   "outputs": [],
   "source": [
    "class ten():\n",
    "    global val\n",
    "    val=5\n",
    "    def ten():\n",
    "        if val==5:\n",
    "            return \"in class ten def ten function\"\n",
    "        else:\n",
    "            pass"
   ]
  },
  {
   "cell_type": "code",
   "execution_count": 21,
   "id": "c3a7462e",
   "metadata": {},
   "outputs": [
    {
     "name": "stdout",
     "output_type": "stream",
     "text": [
      "in class ten def ten function\n"
     ]
    }
   ],
   "source": [
    "obj=ten.ten()\n",
    "print(obj)"
   ]
  },
  {
   "cell_type": "code",
   "execution_count": 31,
   "id": "367bc48a",
   "metadata": {},
   "outputs": [
    {
     "name": "stdout",
     "output_type": "stream",
     "text": [
      "Deelip\n",
      "Kumar\n"
     ]
    }
   ],
   "source": [
    "class classname:\n",
    "    name='Deelip' #class attribute\n",
    "    def __init__(self,name): #class instence\n",
    "        self.name=name\n",
    "firstname=classname(\"Kumar\")\n",
    "\n",
    "print(firstname.__class__.name)       # extracting class attribute\n",
    "print(firstname.name)                 # extracting class instence attribute"
   ]
  },
  {
   "cell_type": "code",
   "execution_count": 34,
   "id": "625c52de",
   "metadata": {},
   "outputs": [
    {
     "name": "stdout",
     "output_type": "stream",
     "text": [
      "My name is peacock\n"
     ]
    }
   ],
   "source": [
    "class classname:\n",
    "    name='bird'\n",
    "    def __init__(self,name):\n",
    "        self.name=name\n",
    "    def speak(self):\n",
    "        print(\"My name is {}\".format(self.name))\n",
    "peacock=classname(\"peacock\")\n",
    "peacock.speak()"
   ]
  },
  {
   "cell_type": "code",
   "execution_count": 54,
   "id": "1e5c48fb",
   "metadata": {},
   "outputs": [],
   "source": [
    "class Car:\n",
    "    def __init__(self, model, year, color):\n",
    "        self.model = model\n",
    "        self.year = year\n",
    "        self.color = color\n",
    "\n",
    "    def start(self):\n",
    "        print(f\"The {self.color} {self.model} from {self.year} is starting.\")\n",
    "\n",
    "    def stop(self):\n",
    "        print(f\"The {self.color} {self.model} from {self.year} is stopping.\")\n",
    "\n",
    "    def drive(self):\n",
    "        print(f\"The {self.color} {self.model} from {self.year} is driving.\")"
   ]
  },
  {
   "cell_type": "code",
   "execution_count": 55,
   "id": "195e128e",
   "metadata": {},
   "outputs": [],
   "source": [
    "car1=Car('RWD','2023','Black')"
   ]
  },
  {
   "cell_type": "code",
   "execution_count": 56,
   "id": "674c33a9",
   "metadata": {},
   "outputs": [
    {
     "name": "stdout",
     "output_type": "stream",
     "text": [
      "The Black RWD from 2023 is starting.\n",
      "The Black RWD from 2023 is driving.\n",
      "The Black RWD from 2023 is stopping.\n"
     ]
    }
   ],
   "source": [
    "car1.start()\n",
    "car1.drive()\n",
    "car1.stop()"
   ]
  },
  {
   "cell_type": "code",
   "execution_count": null,
   "id": "a23a9067",
   "metadata": {},
   "outputs": [],
   "source": []
  }
 ],
 "metadata": {
  "kernelspec": {
   "display_name": "Python 3 (ipykernel)",
   "language": "python",
   "name": "python3"
  },
  "language_info": {
   "codemirror_mode": {
    "name": "ipython",
    "version": 3
   },
   "file_extension": ".py",
   "mimetype": "text/x-python",
   "name": "python",
   "nbconvert_exporter": "python",
   "pygments_lexer": "ipython3",
   "version": "3.9.13"
  }
 },
 "nbformat": 4,
 "nbformat_minor": 5
}
