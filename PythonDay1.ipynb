{
 "cells": [
  {
   "cell_type": "code",
   "execution_count": 5,
   "id": "e975de26",
   "metadata": {},
   "outputs": [
    {
     "name": "stdout",
     "output_type": "stream",
     "text": [
      "5\n",
      "3\n",
      "6\n",
      "2\n",
      "1\n",
      "8\n",
      "[3, 6, 2, 1, 8]\n"
     ]
    }
   ],
   "source": [
    "#Python program to interchange first and last elements in a list\n",
    "\n",
    "list1=[]\n",
    "num=int(input())\n",
    "for i in range(0,num):\n",
    "    list1.append(int(input()))\n",
    "print(list1)"
   ]
  },
  {
   "cell_type": "code",
   "execution_count": 7,
   "id": "00150ed2",
   "metadata": {},
   "outputs": [
    {
     "name": "stdout",
     "output_type": "stream",
     "text": [
      "[8, 6, 2, 3, 1]\n"
     ]
    }
   ],
   "source": [
    "length=len(list1)\n",
    "temp=list1[0]\n",
    "list1[0]=list1[length-1]\n",
    "list1[length-1]=temp\n",
    "print(list1)"
   ]
  },
  {
   "cell_type": "code",
   "execution_count": 9,
   "id": "06f2b8f0",
   "metadata": {},
   "outputs": [
    {
     "name": "stdout",
     "output_type": "stream",
     "text": [
      "6\n",
      "23\n",
      "45\n",
      "6\n",
      "23\n",
      "34\n",
      "1\n",
      "[23, 45, 6, 23, 34, 1]\n"
     ]
    }
   ],
   "source": [
    "#Python program to swap two elements in a list\n",
    "list2=[]\n",
    "num=int(input())\n",
    "for i in range(0,num):\n",
    "    list2.append(int(input()))\n",
    "print(list2)"
   ]
  },
  {
   "cell_type": "code",
   "execution_count": 10,
   "id": "8b2221e4",
   "metadata": {},
   "outputs": [
    {
     "name": "stdout",
     "output_type": "stream",
     "text": [
      "first position: 3\n",
      "second position: 5\n",
      "[23, 45, 34, 23, 6, 1]\n"
     ]
    }
   ],
   "source": [
    "n1=int(input(\"first position: \"))\n",
    "n2=int(input(\"second position: \"))\n",
    "ln=len(list2)\n",
    "temp=list2[n1-1]\n",
    "list2[n1-1]=list2[n2-1]\n",
    "list2[n2-1]=temp\n",
    "print(list2)"
   ]
  },
  {
   "cell_type": "code",
   "execution_count": null,
   "id": "ad6f6a1b",
   "metadata": {},
   "outputs": [],
   "source": []
  }
 ],
 "metadata": {
  "kernelspec": {
   "display_name": "Python 3 (ipykernel)",
   "language": "python",
   "name": "python3"
  },
  "language_info": {
   "codemirror_mode": {
    "name": "ipython",
    "version": 3
   },
   "file_extension": ".py",
   "mimetype": "text/x-python",
   "name": "python",
   "nbconvert_exporter": "python",
   "pygments_lexer": "ipython3",
   "version": "3.9.13"
  }
 },
 "nbformat": 4,
 "nbformat_minor": 5
}
