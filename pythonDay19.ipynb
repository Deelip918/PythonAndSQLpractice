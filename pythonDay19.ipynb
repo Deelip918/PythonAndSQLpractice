{
 "cells": [
  {
   "cell_type": "code",
   "execution_count": 1,
   "id": "6fb57078",
   "metadata": {},
   "outputs": [],
   "source": [
    "import numpy as np"
   ]
  },
  {
   "cell_type": "code",
   "execution_count": 4,
   "id": "eff94385",
   "metadata": {},
   "outputs": [],
   "source": [
    "arr=np.array([1,3,4,5,]) #array of rank 1"
   ]
  },
  {
   "cell_type": "code",
   "execution_count": 5,
   "id": "2328f8f5",
   "metadata": {},
   "outputs": [
    {
     "name": "stdout",
     "output_type": "stream",
     "text": [
      "[1 3 4 5]\n"
     ]
    }
   ],
   "source": [
    "print(arr)"
   ]
  },
  {
   "cell_type": "code",
   "execution_count": 7,
   "id": "e21fb38a",
   "metadata": {},
   "outputs": [],
   "source": [
    "arr2=np.array([[1,2,3],[3,5,2]]) #array of rank 2"
   ]
  },
  {
   "cell_type": "code",
   "execution_count": 8,
   "id": "e2977398",
   "metadata": {},
   "outputs": [
    {
     "name": "stdout",
     "output_type": "stream",
     "text": [
      "[[1 2 3]\n",
      " [3 5 2]]\n"
     ]
    }
   ],
   "source": [
    "print(arr2)"
   ]
  },
  {
   "cell_type": "code",
   "execution_count": 9,
   "id": "a78af4d7",
   "metadata": {},
   "outputs": [],
   "source": [
    "# array from tupple\n",
    "arr3=np.array((3,3,2))"
   ]
  },
  {
   "cell_type": "code",
   "execution_count": 10,
   "id": "49666fdc",
   "metadata": {},
   "outputs": [
    {
     "name": "stdout",
     "output_type": "stream",
     "text": [
      "[3 3 2]\n"
     ]
    }
   ],
   "source": [
    "print(arr3)"
   ]
  },
  {
   "cell_type": "code",
   "execution_count": 11,
   "id": "432049e5",
   "metadata": {},
   "outputs": [],
   "source": [
    "#array from set\n",
    "arr4=np.array({3,3,2})"
   ]
  },
  {
   "cell_type": "code",
   "execution_count": 12,
   "id": "2f0e3967",
   "metadata": {},
   "outputs": [
    {
     "name": "stdout",
     "output_type": "stream",
     "text": [
      "{2, 3}\n"
     ]
    }
   ],
   "source": [
    "print(arr3)"
   ]
  },
  {
   "cell_type": "code",
   "execution_count": 13,
   "id": "c27ef0f7",
   "metadata": {},
   "outputs": [],
   "source": [
    "#array from dict\n",
    "arr5=np.array({'a':4,'b':5})"
   ]
  },
  {
   "cell_type": "code",
   "execution_count": 14,
   "id": "dd4d9b20",
   "metadata": {},
   "outputs": [
    {
     "name": "stdout",
     "output_type": "stream",
     "text": [
      "{'a': 4, 'b': 5}\n"
     ]
    }
   ],
   "source": [
    "print(arr5)"
   ]
  },
  {
   "cell_type": "code",
   "execution_count": 23,
   "id": "325b67a2",
   "metadata": {},
   "outputs": [
    {
     "name": "stdout",
     "output_type": "stream",
     "text": [
      "\n",
      "Elements at indices (1, 3), (1, 2), (0, 1), (3, 0):\n",
      " [0. 6. 2. 3.]\n"
     ]
    }
   ],
   "source": [
    "arr6 = np.array([[-1, 2, 0, 4],\n",
    "                [4, -0.5, 6, 0],\n",
    "                [2.6, 0, 7, 8],\n",
    "                [3, -7, 4, 2.0]])\n",
    "\n",
    "Index_arr = arr6[[1, 1, 0, 3],\n",
    "                [3, 2, 1, 0]]\n",
    "print (\"\\nElements at indices (1, 3), \" \"(1, 2), (0, 1), (3, 0):\\n\", Index_arr)"
   ]
  },
  {
   "cell_type": "code",
   "execution_count": 32,
   "id": "85a4a766",
   "metadata": {},
   "outputs": [
    {
     "name": "stdout",
     "output_type": "stream",
     "text": [
      "Array with first 2 rows and alternate columns(0 and 2):\n",
      " [[-1.  0.]\n",
      " [ 4.  6.]]\n"
     ]
    }
   ],
   "source": [
    "sliced_arr = arr6[:2, ::2] # arr[row_start_idx:end_idx:step,column_start_idx:end_idx:step]\n",
    "print (\"Array with first 2 rows and\"\n",
    "    \" alternate columns(0 and 2):\\n\", sliced_arr)"
   ]
  },
  {
   "cell_type": "markdown",
   "id": "452130c1",
   "metadata": {},
   "source": [
    "# Basic Array Operations"
   ]
  },
  {
   "cell_type": "code",
   "execution_count": 33,
   "id": "1b8591a0",
   "metadata": {},
   "outputs": [],
   "source": [
    "a = np.array([[1, 2],\n",
    "              [5,1]])\n",
    " \n",
    "b = np.array([[1, 2],\n",
    "              [2, 1]])"
   ]
  },
  {
   "cell_type": "code",
   "execution_count": 37,
   "id": "9910d6d0",
   "metadata": {},
   "outputs": [
    {
     "name": "stdout",
     "output_type": "stream",
     "text": [
      "[[2 4]\n",
      " [7 2]]\n",
      "[[0 0]\n",
      " [3 0]]\n",
      "[[ 1  4]\n",
      " [10  1]]\n",
      "[[1.  1. ]\n",
      " [2.5 1. ]]\n"
     ]
    }
   ],
   "source": [
    "arradd=a+b\n",
    "arrsub=a-b\n",
    "arrmul=a*b\n",
    "arrdiv=a/b\n",
    "# all row and column will get operated with each other\n",
    "print(arradd)\n",
    "print(arrsub)\n",
    "print(arrmul)\n",
    "print(arrdiv)"
   ]
  },
  {
   "cell_type": "code",
   "execution_count": 43,
   "id": "5b590b7d",
   "metadata": {},
   "outputs": [
    {
     "name": "stdout",
     "output_type": "stream",
     "text": [
      "[[2 3]\n",
      " [6 2]]\n",
      "[[0 1]\n",
      " [4 0]]\n",
      "5\n"
     ]
    }
   ],
   "source": [
    "# individual operation\n",
    "a=a+1 #will add 1 to all matrix element\n",
    "print(a)\n",
    "a=a-2\n",
    "print(a)\n",
    "print(a.sum()) # will add all elements of matrix"
   ]
  },
  {
   "cell_type": "code",
   "execution_count": 47,
   "id": "2f3ee495",
   "metadata": {},
   "outputs": [
    {
     "name": "stdout",
     "output_type": "stream",
     "text": [
      "Array is of type:  int32\n",
      "No. of dimensions:  2\n",
      "Shape of array:  (2, 3)\n",
      "Size of array:  6\n",
      "Array stores elements of type:  int32\n"
     ]
    }
   ],
   "source": [
    "\n",
    "array=np.array([[1,3,4],[3,6,1]])\n",
    "\n",
    "print(\"Array is of type: \", array.dtype) \n",
    " \n",
    "print(\"No. of dimensions: \", array.ndim) # array dimensions (axes)\n",
    " \n",
    "\n",
    "print(\"Shape of array: \", array.shape) # shape of array\n",
    " \n",
    "\n",
    "print(\"Size of array: \", array.size) # size (total number of elements) of array\n",
    " \n",
    "\n",
    "print(\"Array stores elements of type: \", array.dtype) # type of elements in array"
   ]
  },
  {
   "cell_type": "code",
   "execution_count": 49,
   "id": "ac363252",
   "metadata": {},
   "outputs": [
    {
     "name": "stdout",
     "output_type": "stream",
     "text": [
      "Datatype is :  int32\n",
      "Datatype is :  float64\n",
      "Datatype is :  int64\n"
     ]
    }
   ],
   "source": [
    "x = np.array([1, 2])  \n",
    "print(\"Datatype is : \",x.dtype)\n",
    "x = np.array([1.0, 2.0]) \n",
    "print(\"Datatype is : \",x.dtype)\n",
    " \n",
    "x = np.array([1, 2], dtype = np.int64)   # Forced Datatype\n",
    "print(\"Datatype is : \",x.dtype)\n"
   ]
  },
  {
   "cell_type": "code",
   "execution_count": 52,
   "id": "b45036bf",
   "metadata": {},
   "outputs": [
    {
     "name": "stdout",
     "output_type": "stream",
     "text": [
      "Addition of Two Arrays:  [[ 7 13]\n",
      " [ 4 14]]\n",
      "Addition of Array elements:  19\n",
      "Square root of Array1 elements:  [[2.         2.64575131]\n",
      " [1.41421356 2.44948974]]\n",
      "\n",
      "Transpose of Array: \n",
      "[[4 2]\n",
      " [7 6]]\n"
     ]
    }
   ],
   "source": [
    "arr1 = np.array([[4, 7], [2, 6]], dtype = np.int64)\n",
    "arr2 = np.array([[3, 6], [2, 8]], dtype = np.int64) \n",
    "\n",
    "Sum = np.add(arr1, arr2)\n",
    "print(\"Addition of Two Arrays: \",Sum)\n",
    "\n",
    "Sum1 = np.sum(arr1)\n",
    "print(\"Addition of Array elements: \",Sum1)\n",
    "Sqrt = np.sqrt(arr1)\n",
    "print(\"Square root of Array1 elements: \",Sqrt)\n",
    "\n",
    "Trans_arr = arr1.T # Transpose of Array\n",
    "print(\"\\nTranspose of Array: \")\n",
    "print(Trans_arr)"
   ]
  },
  {
   "cell_type": "code",
   "execution_count": null,
   "id": "84a0a20e",
   "metadata": {},
   "outputs": [],
   "source": []
  }
 ],
 "metadata": {
  "kernelspec": {
   "display_name": "Python 3 (ipykernel)",
   "language": "python",
   "name": "python3"
  },
  "language_info": {
   "codemirror_mode": {
    "name": "ipython",
    "version": 3
   },
   "file_extension": ".py",
   "mimetype": "text/x-python",
   "name": "python",
   "nbconvert_exporter": "python",
   "pygments_lexer": "ipython3",
   "version": "3.9.13"
  }
 },
 "nbformat": 4,
 "nbformat_minor": 5
}
