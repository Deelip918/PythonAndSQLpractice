{
 "cells": [
  {
   "cell_type": "markdown",
   "id": "7a57fa42",
   "metadata": {},
   "source": [
    "# Inheritence"
   ]
  },
  {
   "cell_type": "code",
   "execution_count": 2,
   "id": "5464965d",
   "metadata": {},
   "outputs": [
    {
     "name": "stdout",
     "output_type": "stream",
     "text": [
      "I can eat!\n",
      "I can sleep!\n",
      "I can bark!\n"
     ]
    }
   ],
   "source": [
    "class Animal:\n",
    "    \n",
    "    def eat(self):\n",
    "        print( \"I can eat!\")\n",
    "    \n",
    "    def sleep(self):\n",
    "        print(\"I can sleep!\")\n",
    "\n",
    "class Dog(Animal): # deriving dog class from animal class\n",
    "    \n",
    "    def bark(self):\n",
    "        print(\"I can bark!\")\n",
    "dog1 = Dog()\n",
    "\n",
    "dog1.eat()\n",
    "dog1.sleep()\n",
    "\n",
    "dog1.bark();"
   ]
  },
  {
   "cell_type": "markdown",
   "id": "e1be52a9",
   "metadata": {},
   "source": [
    "# Encapsulation"
   ]
  },
  {
   "cell_type": "code",
   "execution_count": 4,
   "id": "d423d073",
   "metadata": {},
   "outputs": [
    {
     "name": "stdout",
     "output_type": "stream",
     "text": [
      "Selling Price: 900\n",
      "Selling Price: 1000\n",
      "Selling Price: 1000\n"
     ]
    }
   ],
   "source": [
    "# we can change the attributes from outside\n",
    "\n",
    "class Computer:\n",
    "\n",
    "    def __init__(self):\n",
    "        self.maxprice = 900\n",
    "\n",
    "    def sell(self):\n",
    "        print(\"Selling Price: {}\".format(self.maxprice))\n",
    "\n",
    "    def setMaxPrice(self, price):\n",
    "        self.maxprice = price\n",
    "\n",
    "c = Computer()\n",
    "c.sell()\n",
    "\n",
    "c.maxprice = 1000\n",
    "c.sell()\n",
    "\n",
    "c.setMaxPrice(1000)\n",
    "c.sell()"
   ]
  },
  {
   "cell_type": "code",
   "execution_count": 6,
   "id": "160dd886",
   "metadata": {},
   "outputs": [
    {
     "name": "stdout",
     "output_type": "stream",
     "text": [
      "Selling Price: 900\n",
      "Selling Price: 900\n",
      "Selling Price: 1000\n"
     ]
    }
   ],
   "source": [
    "# we can not change the value of attribute from outside \n",
    "#__is for defining private atributes\n",
    "\n",
    "class Computer:\n",
    "\n",
    "    def __init__(self):\n",
    "        self.__maxprice = 900\n",
    "\n",
    "    def sell(self):\n",
    "        print(\"Selling Price: {}\".format(self.__maxprice))\n",
    "\n",
    "    def setMaxPrice(self, price):\n",
    "        self.__maxprice = price\n",
    "\n",
    "c = Computer()\n",
    "c.sell()\n",
    "\n",
    "c.__maxprice = 1000  # we are tring to set attribute from outside of class will not replicate\n",
    "c.sell()\n",
    "\n",
    "c.setMaxPrice(1000)  #now we are passing value to the method of a function which will change max price from inside of function\n",
    "c.sell()"
   ]
  },
  {
   "cell_type": "markdown",
   "id": "ce618892",
   "metadata": {},
   "source": [
    "# Polymorphism"
   ]
  },
  {
   "cell_type": "code",
   "execution_count": 9,
   "id": "befa4f1d",
   "metadata": {},
   "outputs": [
    {
     "name": "stdout",
     "output_type": "stream",
     "text": [
      "painting Square...\n",
      "painting Circle...\n"
     ]
    }
   ],
   "source": [
    "class Polygon:\n",
    "    def paint(self):\n",
    "        print(\"painting Polygon...\")\n",
    "\n",
    "class Square(Polygon):\n",
    "    def paint(self):\n",
    "        print(\"painting Square...\")\n",
    "\n",
    "class Circle(Polygon):\n",
    "    def paint(self):\n",
    "        print(\"painting Circle...\")\n",
    "        \n",
    "square1 = Square()\n",
    "square1.paint()\n",
    "\n",
    "circle1 = Circle()\n",
    "circle1.paint()"
   ]
  },
  {
   "cell_type": "markdown",
   "id": "17427e76",
   "metadata": {},
   "source": [
    "# cunstructor in python class __init__"
   ]
  },
  {
   "cell_type": "code",
   "execution_count": 11,
   "id": "a5863543",
   "metadata": {},
   "outputs": [
    {
     "name": "stdout",
     "output_type": "stream",
     "text": [
      "results real no. is 7 and imaginary no is 3\n"
     ]
    }
   ],
   "source": [
    "#adding two complex numbers\n",
    "\n",
    "class complex:\n",
    "    def __init__(self,real,imag):\n",
    "        self.real=real\n",
    "        self.imag=imag\n",
    "    def add(self,number):\n",
    "        real=self.real+number.real\n",
    "        imag=self.imag+number.imag\n",
    "        result=complex(real,imag)\n",
    "        return result\n",
    "n1=complex(4,5)\n",
    "n2=complex(3,-2)\n",
    "result=n1.add(n2)\n",
    "\n",
    "print(f\"results real no. is {result.real} and imaginary no is {result.imag}\")\n"
   ]
  },
  {
   "cell_type": "code",
   "execution_count": null,
   "id": "2b5f7e97",
   "metadata": {},
   "outputs": [],
   "source": []
  }
 ],
 "metadata": {
  "kernelspec": {
   "display_name": "Python 3 (ipykernel)",
   "language": "python",
   "name": "python3"
  },
  "language_info": {
   "codemirror_mode": {
    "name": "ipython",
    "version": 3
   },
   "file_extension": ".py",
   "mimetype": "text/x-python",
   "name": "python",
   "nbconvert_exporter": "python",
   "pygments_lexer": "ipython3",
   "version": "3.9.13"
  }
 },
 "nbformat": 4,
 "nbformat_minor": 5
}
