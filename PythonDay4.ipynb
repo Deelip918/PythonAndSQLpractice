{
 "cells": [
  {
   "cell_type": "markdown",
   "id": "a431811a",
   "metadata": {},
   "source": [
    "# Q1 how to find the lenth of a list"
   ]
  },
  {
   "cell_type": "code",
   "execution_count": 52,
   "id": "339738e6",
   "metadata": {},
   "outputs": [
    {
     "name": "stdout",
     "output_type": "stream",
     "text": [
      "4\n",
      "2\n",
      "2\n",
      "2\n",
      "4\n"
     ]
    }
   ],
   "source": [
    "list3=[]\n",
    "n=int(input())\n",
    "for i in range(0,n):\n",
    "    list3.append(int(input()))\n",
    "    "
   ]
  },
  {
   "cell_type": "code",
   "execution_count": 54,
   "id": "d6ab97db",
   "metadata": {},
   "outputs": [
    {
     "name": "stdout",
     "output_type": "stream",
     "text": [
      "4\n"
     ]
    }
   ],
   "source": [
    "print(len(list3))"
   ]
  },
  {
   "cell_type": "code",
   "execution_count": 55,
   "id": "b16ea95e",
   "metadata": {},
   "outputs": [
    {
     "name": "stdout",
     "output_type": "stream",
     "text": [
      "4\n"
     ]
    }
   ],
   "source": [
    "count=0\n",
    "for i in list3:\n",
    "    count=count+1\n",
    "print(count)"
   ]
  },
  {
   "cell_type": "markdown",
   "id": "ad3a7725",
   "metadata": {},
   "source": [
    " # Q.2 Maximum of two numbers in Python"
   ]
  },
  {
   "cell_type": "code",
   "execution_count": 71,
   "id": "8d8df916",
   "metadata": {},
   "outputs": [
    {
     "name": "stdout",
     "output_type": "stream",
     "text": [
      "3\n",
      "6\n",
      "6\n"
     ]
    }
   ],
   "source": [
    "a=int(input())\n",
    "b=int(input())\n",
    "\n",
    "if a>b:\n",
    "    print(a)\n",
    "else:\n",
    "    print(b)"
   ]
  },
  {
   "cell_type": "markdown",
   "id": "27471c9f",
   "metadata": {},
   "source": [
    "# Q.3 Minimum of two numbers in Python"
   ]
  },
  {
   "cell_type": "code",
   "execution_count": 61,
   "id": "aceafdf3",
   "metadata": {},
   "outputs": [
    {
     "name": "stdout",
     "output_type": "stream",
     "text": [
      "-1\n",
      "-2\n",
      "-2\n"
     ]
    }
   ],
   "source": [
    "a=int(input())\n",
    "b=int(input())\n",
    "\n",
    "if a<b:\n",
    "    print(a)\n",
    "else:\n",
    "    print(b)"
   ]
  },
  {
   "cell_type": "code",
   "execution_count": 64,
   "id": "44d94a62",
   "metadata": {},
   "outputs": [
    {
     "name": "stdout",
     "output_type": "stream",
     "text": [
      "-1\n",
      "-2\n"
     ]
    }
   ],
   "source": [
    "print(max(a,b))\n",
    "print(min(a,b))"
   ]
  },
  {
   "cell_type": "code",
   "execution_count": 66,
   "id": "419e7aa9",
   "metadata": {},
   "outputs": [
    {
     "name": "stdout",
     "output_type": "stream",
     "text": [
      "-1\n"
     ]
    }
   ],
   "source": [
    "print(a if a>b else b)"
   ]
  },
  {
   "cell_type": "code",
   "execution_count": 75,
   "id": "7efac1a4",
   "metadata": {},
   "outputs": [
    {
     "name": "stdout",
     "output_type": "stream",
     "text": [
      "6 is a maximum number\n",
      "3 is a minimum number\n"
     ]
    }
   ],
   "source": [
    "maximum=lambda a,b: max(a,b)\n",
    "min1=lambda a,b:a if a<b else b\n",
    "y=min1(a,b)\n",
    "z=maximum(a,b)\n",
    "print(f'{z} is a maximum number')\n",
    "print(f'{y} is a minimum number')"
   ]
  },
  {
   "cell_type": "markdown",
   "id": "bfadee5c",
   "metadata": {},
   "source": [
    "# Check if element exists in list in Python"
   ]
  },
  {
   "cell_type": "code",
   "execution_count": 76,
   "id": "9e8fa312",
   "metadata": {},
   "outputs": [
    {
     "name": "stdout",
     "output_type": "stream",
     "text": [
      "2\n",
      "yes element exist\n"
     ]
    }
   ],
   "source": [
    "element=int(input())\n",
    "if element in list3:\n",
    "    print(\"yes element exist\")\n",
    "else:\n",
    "    print(\"element not exist\")"
   ]
  },
  {
   "cell_type": "code",
   "execution_count": 78,
   "id": "c204a7d1",
   "metadata": {},
   "outputs": [
    {
     "name": "stdout",
     "output_type": "stream",
     "text": [
      "yes element exist\n"
     ]
    }
   ],
   "source": [
    "for i in list3:\n",
    "    if i==element:\n",
    "        print(\"yes element exist\")\n",
    "        break\n",
    "    else:\n",
    "        print(\"element not exist\")\n",
    "        "
   ]
  },
  {
   "cell_type": "code",
   "execution_count": 96,
   "id": "2230b63a",
   "metadata": {},
   "outputs": [
    {
     "name": "stdout",
     "output_type": "stream",
     "text": [
      "4\n",
      "1\n",
      "5\n",
      "3\n",
      "8\n",
      "[1, 5, 3, 8]\n",
      "2759722695680\n",
      "2759722744320\n"
     ]
    }
   ],
   "source": [
    "list1=[]\n",
    "num=int(input())\n",
    "for i in range(0,num):\n",
    "    list1.append(int(input()))\n",
    "print(list1)\n",
    "list2=list1.copy()\n",
    "print(id(list1))\n",
    "print(id(list2))"
   ]
  },
  {
   "cell_type": "code",
   "execution_count": 97,
   "id": "b909b7ce",
   "metadata": {},
   "outputs": [
    {
     "name": "stdout",
     "output_type": "stream",
     "text": [
      "[1, 5, 3, 8]\n",
      "[]\n",
      "[1, 5, 3, 8]\n",
      "[]\n",
      "[3, 6, 2, 1, 6]\n",
      "[]\n",
      "[1, 4, 7, 2, 1]\n",
      "[]\n"
     ]
    }
   ],
   "source": [
    "#clearing the list by different method\n",
    "print(list1)\n",
    "list1.clear()\n",
    "print(list1)\n",
    "print(list2)\n",
    "del list2[:]\n",
    "print(list2)\n",
    "list3=[3,6,2,1,6]\n",
    "print(list3)\n",
    "list3=[]\n",
    "print(list3)\n",
    "lst=[1,4,7,2,1]\n",
    "print(lst)\n",
    "#clearing by slicing\n",
    "lst=lst[:0]\n",
    "print(lst)"
   ]
  },
  {
   "cell_type": "markdown",
   "id": "c6fc38ad",
   "metadata": {},
   "source": [
    "# reverse list"
   ]
  },
  {
   "cell_type": "code",
   "execution_count": 111,
   "id": "bf5180df",
   "metadata": {},
   "outputs": [
    {
     "name": "stdout",
     "output_type": "stream",
     "text": [
      "[1, 2, 3, 4, 5, 6, 7]\n",
      "[7, 6, 5, 4, 3, 2, 1]\n",
      "[1, 2, 3, 4, 5, 6, 7]\n"
     ]
    }
   ],
   "source": [
    "def reverse(lst):\n",
    "    start = 0\n",
    "    end = len(arr)-1\n",
    "    while (start < end):\n",
    "        temp = arr[start]\n",
    "        arr[start] = arr[end]\n",
    "        arr[end] = temp\n",
    "        start =start + 1\n",
    "        end =end-1\n",
    "    return lst\n",
    " \n",
    "lst = [1, 2, 3, 4, 5, 6, 7]\n",
    "print(reverse(lst))\n",
    "lst.reverse()\n",
    "print(lst)\n",
    "new_lst = lst[::-1]\n",
    "print(new_lst)"
   ]
  },
  {
   "cell_type": "code",
   "execution_count": null,
   "id": "fcb94dc6",
   "metadata": {},
   "outputs": [],
   "source": []
  }
 ],
 "metadata": {
  "kernelspec": {
   "display_name": "Python 3 (ipykernel)",
   "language": "python",
   "name": "python3"
  },
  "language_info": {
   "codemirror_mode": {
    "name": "ipython",
    "version": 3
   },
   "file_extension": ".py",
   "mimetype": "text/x-python",
   "name": "python",
   "nbconvert_exporter": "python",
   "pygments_lexer": "ipython3",
   "version": "3.9.13"
  }
 },
 "nbformat": 4,
 "nbformat_minor": 5
}
