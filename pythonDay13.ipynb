{
 "cells": [
  {
   "cell_type": "code",
   "execution_count": 7,
   "id": "3ceefeef",
   "metadata": {},
   "outputs": [
    {
     "name": "stdout",
     "output_type": "stream",
     "text": [
      "enter your hieght1.85\n",
      "enter your weight61\n",
      "for hieght 1.85 and weight 61.0 BMI status is Underweight \n"
     ]
    }
   ],
   "source": [
    "def BMI(hieght,weight):\n",
    "    BMI=weight/hieght**2\n",
    "    return BMI\n",
    "def commentBMI(BMI):\n",
    "    if BMI < 15:\n",
    "        comment = \"Very severely underweight\"\n",
    "    elif BMI < 16:\n",
    "        comment = \"Severely underweight\"\n",
    "    elif BMI < 18.5:\n",
    "        comment = \"Underweight\"\n",
    "    elif BMI < 25:\n",
    "        comment = \"Normal (healthy weight)\"\n",
    "    elif BMI < 30:\n",
    "        comment = \"Overweight\"\n",
    "    else:\n",
    "        comment='obesed'\n",
    "    return comment\n",
    "hieght=float(input('enter your hieght'))\n",
    "weight=float(input('enter your weight'))\n",
    "\n",
    "print('for hieght {} and weight {} BMI status is {} '.format(hieght,weight,commentBMI(BMI(hieght,weight))))"
   ]
  },
  {
   "cell_type": "code",
   "execution_count": 8,
   "id": "b620e01d",
   "metadata": {},
   "outputs": [
    {
     "name": "stdout",
     "output_type": "stream",
     "text": [
      "enter your hieght1.85\n",
      "enter your weight62\n",
      "Underweight\n"
     ]
    }
   ],
   "source": [
    "hieght=float(input('enter your hieght'))\n",
    "weight=float(input('enter your weight'))\n",
    "\n",
    "BMI=BMI(hieght,weight)\n",
    "print(commentBMI(BMI))"
   ]
  },
  {
   "cell_type": "code",
   "execution_count": 42,
   "id": "247f6d8c",
   "metadata": {},
   "outputs": [
    {
     "data": {
      "text/plain": [
       "'Hello everybody!'"
      ]
     },
     "execution_count": 42,
     "metadata": {},
     "output_type": "execute_result"
    }
   ],
   "source": [
    "def greet(name=\"everybody\"):\n",
    "    result = \"Hello \" + name + \"!\"\n",
    "    return result\n",
    "\n",
    "greet()\n",
    "greet(\"Peter\")\n",
    "greet()"
   ]
  },
  {
   "cell_type": "code",
   "execution_count": 43,
   "id": "3480ebef",
   "metadata": {},
   "outputs": [
    {
     "data": {
      "text/plain": [
       "('everybody',)"
      ]
     },
     "execution_count": 43,
     "metadata": {},
     "output_type": "execute_result"
    }
   ],
   "source": [
    "greet.__defaults__"
   ]
  },
  {
   "cell_type": "code",
   "execution_count": 15,
   "id": "bde4305d",
   "metadata": {},
   "outputs": [
    {
     "data": {
      "text/plain": [
       "'Hello everybody!'"
      ]
     },
     "execution_count": 15,
     "metadata": {},
     "output_type": "execute_result"
    }
   ],
   "source": [
    "greet()"
   ]
  },
  {
   "cell_type": "code",
   "execution_count": 16,
   "id": "c64c305f",
   "metadata": {},
   "outputs": [
    {
     "data": {
      "text/plain": [
       "'Hello Peter!'"
      ]
     },
     "execution_count": 16,
     "metadata": {},
     "output_type": "execute_result"
    }
   ],
   "source": [
    "greet(\"Peter\")"
   ]
  },
  {
   "cell_type": "code",
   "execution_count": 47,
   "id": "8c141a35",
   "metadata": {},
   "outputs": [
    {
     "name": "stdout",
     "output_type": "stream",
     "text": [
      "['ABC']\n",
      "['ABC', 'ABC']\n",
      "['ABC', 'ABC', 'ABC']\n",
      "['ABC', 'ABC', 'ABC', 'ABC']\n"
     ]
    },
    {
     "data": {
      "text/plain": [
       "(['ABC', 'ABC', 'ABC', 'ABC'],)"
      ]
     },
     "execution_count": 47,
     "metadata": {},
     "output_type": "execute_result"
    }
   ],
   "source": [
    "def new(word=[]):\n",
    "    word.append(\"ABC\")\n",
    "    return word\n",
    "print(new())\n",
    "print(new())\n",
    "print(new())\n",
    "print(new())\n",
    "new.__defaults__"
   ]
  },
  {
   "cell_type": "code",
   "execution_count": 46,
   "id": "5da89b9a",
   "metadata": {},
   "outputs": [
    {
     "name": "stdout",
     "output_type": "stream",
     "text": [
      "['abc']\n",
      "['abc']\n",
      "['abc']\n"
     ]
    },
    {
     "data": {
      "text/plain": [
       "(None,)"
      ]
     },
     "execution_count": 46,
     "metadata": {},
     "output_type": "execute_result"
    }
   ],
   "source": [
    "def new1(word=None):\n",
    "    if word is None:\n",
    "        word=[]\n",
    "    word.append(\"abc\")\n",
    "    return word\n",
    "print(new1())\n",
    "print(new1())\n",
    "print(new1())\n",
    "new1.__defaults__"
   ]
  },
  {
   "cell_type": "code",
   "execution_count": 54,
   "id": "b1bfbce4",
   "metadata": {},
   "outputs": [
    {
     "name": "stdout",
     "output_type": "stream",
     "text": [
      "4\n",
      "4\n",
      "8\n",
      "-1\n"
     ]
    }
   ],
   "source": [
    "def math(a,b,c=0,d=0):\n",
    "    print(a+b-c-d)\n",
    "a=int(input())    # The definition of the function doesn't change when we use keyword parameter\n",
    "b=int(input())  \n",
    "math(a,b)\n",
    "math(a,b,c=7,d=2)"
   ]
  },
  {
   "cell_type": "code",
   "execution_count": 55,
   "id": "d681745a",
   "metadata": {},
   "outputs": [
    {
     "name": "stdout",
     "output_type": "stream",
     "text": [
      "None\n"
     ]
    }
   ],
   "source": [
    "# returning values\n",
    "def math(x,y):\n",
    "    z=x+y\n",
    "print(math(2,8))"
   ]
  },
  {
   "cell_type": "code",
   "execution_count": 56,
   "id": "4600064b",
   "metadata": {},
   "outputs": [
    {
     "name": "stdout",
     "output_type": "stream",
     "text": [
      "None\n"
     ]
    }
   ],
   "source": [
    "def math(x,y):\n",
    "    z=x+y\n",
    "    return\n",
    "print(math(2,4))"
   ]
  },
  {
   "cell_type": "code",
   "execution_count": 57,
   "id": "47201900",
   "metadata": {},
   "outputs": [
    {
     "name": "stdout",
     "output_type": "stream",
     "text": [
      "6\n"
     ]
    }
   ],
   "source": [
    "def math(x,y):\n",
    "    z=x+y\n",
    "    return z\n",
    "print(math(2,4))"
   ]
  },
  {
   "cell_type": "code",
   "execution_count": 58,
   "id": "b745714a",
   "metadata": {},
   "outputs": [
    {
     "name": "stdout",
     "output_type": "stream",
     "text": [
      "(8, 15)\n"
     ]
    }
   ],
   "source": [
    "def math(x,y):\n",
    "    z=x+y\n",
    "    a=x*y               #returning multiple values\n",
    "    return z,a\n",
    "print(math(3,5))"
   ]
  },
  {
   "cell_type": "code",
   "execution_count": 60,
   "id": "71b44da0",
   "metadata": {},
   "outputs": [
    {
     "name": "stdout",
     "output_type": "stream",
     "text": [
      "(8, 15)\n",
      "(8, 15)\n"
     ]
    }
   ],
   "source": [
    "def math(x,y):\n",
    "    z=x+y\n",
    "    a=x*y\n",
    "    return z,a\n",
    "res=math(3,5)\n",
    "print(res)\n",
    "print(math(3,5))"
   ]
  },
  {
   "cell_type": "code",
   "execution_count": 61,
   "id": "ebcbb96c",
   "metadata": {},
   "outputs": [
    {
     "name": "stdout",
     "output_type": "stream",
     "text": [
      "8\n",
      "15\n",
      "(8, 15)\n"
     ]
    }
   ],
   "source": [
    "def math(x,y):\n",
    "    z=x+y\n",
    "    a=x*y\n",
    "    return z,a\n",
    "add,mul=math(3,5)\n",
    "print(add)\n",
    "print(mul)\n",
    "print(math(3,5))"
   ]
  },
  {
   "cell_type": "code",
   "execution_count": 62,
   "id": "bf9612f4",
   "metadata": {},
   "outputs": [
    {
     "name": "stdout",
     "output_type": "stream",
     "text": [
      "Python\n"
     ]
    }
   ],
   "source": [
    "def f(): \n",
    "    print(s)      # free occurrence of s in f    \n",
    "s = \"Python\"\n",
    "f()"
   ]
  },
  {
   "cell_type": "code",
   "execution_count": 63,
   "id": "71c63da4",
   "metadata": {},
   "outputs": [
    {
     "name": "stdout",
     "output_type": "stream",
     "text": [
      "Perl\n",
      "Python\n"
     ]
    }
   ],
   "source": [
    "def f(): \n",
    "    s = \"Perl\"     # now s is local in f\n",
    "    print(s)\n",
    "    \n",
    "s = \"Python\"\n",
    "f()\n",
    "print(s)"
   ]
  },
  {
   "cell_type": "code",
   "execution_count": 68,
   "id": "540045cd",
   "metadata": {},
   "outputs": [
    {
     "ename": "UnboundLocalError",
     "evalue": "local variable 's' referenced before assignment",
     "output_type": "error",
     "traceback": [
      "\u001b[1;31m---------------------------------------------------------------------------\u001b[0m",
      "\u001b[1;31mUnboundLocalError\u001b[0m                         Traceback (most recent call last)",
      "\u001b[1;32m~\\AppData\\Local\\Temp\\ipykernel_24600\\359593013.py\u001b[0m in \u001b[0;36m<module>\u001b[1;34m\u001b[0m\n\u001b[0;32m      6\u001b[0m \u001b[1;33m\u001b[0m\u001b[0m\n\u001b[0;32m      7\u001b[0m \u001b[0ms\u001b[0m \u001b[1;33m=\u001b[0m \u001b[1;34m\"Python\"\u001b[0m\u001b[1;33m\u001b[0m\u001b[1;33m\u001b[0m\u001b[0m\n\u001b[1;32m----> 8\u001b[1;33m \u001b[0mf\u001b[0m\u001b[1;33m(\u001b[0m\u001b[1;33m)\u001b[0m\u001b[1;33m\u001b[0m\u001b[1;33m\u001b[0m\u001b[0m\n\u001b[0m\u001b[0;32m      9\u001b[0m \u001b[0mprint\u001b[0m\u001b[1;33m(\u001b[0m\u001b[0ms\u001b[0m\u001b[1;33m)\u001b[0m\u001b[1;33m\u001b[0m\u001b[1;33m\u001b[0m\u001b[0m\n",
      "\u001b[1;32m~\\AppData\\Local\\Temp\\ipykernel_24600\\359593013.py\u001b[0m in \u001b[0;36mf\u001b[1;34m()\u001b[0m\n\u001b[0;32m      1\u001b[0m \u001b[1;32mdef\u001b[0m \u001b[0mf\u001b[0m\u001b[1;33m(\u001b[0m\u001b[1;33m)\u001b[0m\u001b[1;33m:\u001b[0m\u001b[1;33m\u001b[0m\u001b[1;33m\u001b[0m\u001b[0m\n\u001b[1;32m----> 2\u001b[1;33m     \u001b[0mprint\u001b[0m\u001b[1;33m(\u001b[0m\u001b[0ms\u001b[0m\u001b[1;33m)\u001b[0m        \u001b[1;31m# This means a free occurrence, contradiction to be in local\u001b[0m\u001b[1;33m\u001b[0m\u001b[1;33m\u001b[0m\u001b[0m\n\u001b[0m\u001b[0;32m      3\u001b[0m     \u001b[0ms\u001b[0m \u001b[1;33m=\u001b[0m \u001b[1;34m\"Perl\"\u001b[0m      \u001b[1;31m# This makes s local in f\u001b[0m\u001b[1;33m\u001b[0m\u001b[1;33m\u001b[0m\u001b[0m\n\u001b[0;32m      4\u001b[0m     \u001b[0mprint\u001b[0m\u001b[1;33m(\u001b[0m\u001b[0ms\u001b[0m\u001b[1;33m)\u001b[0m\u001b[1;33m\u001b[0m\u001b[1;33m\u001b[0m\u001b[0m\n\u001b[0;32m      5\u001b[0m \u001b[1;33m\u001b[0m\u001b[0m\n",
      "\u001b[1;31mUnboundLocalError\u001b[0m: local variable 's' referenced before assignment"
     ]
    }
   ],
   "source": [
    "def f(): \n",
    "    print(s)        # This means a free occurrence, contradiction to be in local\n",
    "    s = \"Perl\"      # This makes s local in f\n",
    "    print(s)\n",
    "\n",
    "\n",
    "s = \"Python\"\n",
    "f()\n",
    "print(s)"
   ]
  },
  {
   "cell_type": "code",
   "execution_count": 73,
   "id": "095ca4d0",
   "metadata": {},
   "outputs": [
    {
     "name": "stdout",
     "output_type": "stream",
     "text": [
      "Python\n",
      "Perl\n",
      "Perl\n"
     ]
    }
   ],
   "source": [
    "# to overcome the above problem global variable is used\n",
    "def f(): \n",
    "    global s\n",
    "    print(s)        # This means a free occurrence, contradiction to be in local\n",
    "    s = \"Perl\"      # This makes s local in f\n",
    "    print(s)\n",
    "    return\n",
    "\n",
    "\n",
    "s = \"Python\"\n",
    "f()\n",
    "print(s) #this will also print s=perl as gloably defined"
   ]
  },
  {
   "cell_type": "code",
   "execution_count": 79,
   "id": "1899d276",
   "metadata": {},
   "outputs": [
    {
     "name": "stdout",
     "output_type": "stream",
     "text": [
      "cat\n",
      "this dog will update in s gloably, dog\n",
      "this will print gloabl s after f() returns, dog\n",
      "this will not go globaly, snake\n",
      "dog\n"
     ]
    }
   ],
   "source": [
    "def f():\n",
    "    global s\n",
    "    print(s)\n",
    "    s = \"dog\"       # globally changed\n",
    "    print(\"this dog will update in s gloably,\",s)     \n",
    "\n",
    "def g():\n",
    "    s = \"snake\"     # local s\n",
    "    print(\"this will not go globaly,\",s) \n",
    "\n",
    "s = \"cat\" \n",
    "f()\n",
    "print(\"this will print gloabl s after f() returns,\",s)\n",
    "g()\n",
    "print(s)"
   ]
  },
  {
   "cell_type": "code",
   "execution_count": 89,
   "id": "89816b0b",
   "metadata": {},
   "outputs": [
    {
     "name": "stdout",
     "output_type": "stream",
     "text": [
      "45 (32, 89, 89, 78)\n",
      "(45, (32, 89, 89, 78))\n"
     ]
    }
   ],
   "source": [
    "def number(a, *values):\n",
    "    print(a ,values)   #Arbitrary Number of Parameters\n",
    "    return a, values\n",
    "\n",
    "\n",
    "print(number(45,32,89,89,78))"
   ]
  },
  {
   "cell_type": "code",
   "execution_count": 97,
   "id": "85757be6",
   "metadata": {},
   "outputs": [
    {
     "name": "stdout",
     "output_type": "stream",
     "text": [
      "3 ([2, 3, 4, 5],)\n",
      "3 (2, 3, 4, 5)\n"
     ]
    },
    {
     "data": {
      "text/plain": [
       "(3, (2, 3, 4, 5))"
      ]
     },
     "execution_count": 97,
     "metadata": {},
     "output_type": "execute_result"
    }
   ],
   "source": [
    "lst=[2,3,4,5]\n",
    "number(3,lst)\n",
    "number(3,*lst) # this will pass the value of list elements not list"
   ]
  },
  {
   "cell_type": "code",
   "execution_count": 101,
   "id": "c5c867c1",
   "metadata": {},
   "outputs": [
    {
     "name": "stdout",
     "output_type": "stream",
     "text": [
      "{'d': 10, 'f': 100, 'g': 3, 'y': '123'}\n"
     ]
    }
   ],
   "source": [
    "# Arbitrary Number of Keyword Parameters\n",
    "\n",
    "def func(**para):\n",
    "    print(para)\n",
    "func(d=10,f=100,g=3,y='123')"
   ]
  },
  {
   "cell_type": "code",
   "execution_count": 102,
   "id": "b7ba91b6",
   "metadata": {},
   "outputs": [
    {
     "name": "stdout",
     "output_type": "stream",
     "text": [
      "{'d': 10, 'e': 12, 'f': 15, 'g': 19}\n"
     ]
    }
   ],
   "source": [
    "d={'d':10,'e':12,'f':15,'g':19}\n",
    "func(**d)"
   ]
  },
  {
   "cell_type": "code",
   "execution_count": 106,
   "id": "e1f940d1",
   "metadata": {},
   "outputs": [
    {
     "name": "stdout",
     "output_type": "stream",
     "text": [
      "10 12 15 19\n"
     ]
    }
   ],
   "source": [
    "def func1(d,e,f,g):\n",
    "    print(d,e,f,g)\n",
    "func1(**d)"
   ]
  },
  {
   "cell_type": "code",
   "execution_count": 112,
   "id": "1bdd73b5",
   "metadata": {},
   "outputs": [
    {
     "name": "stdout",
     "output_type": "stream",
     "text": [
      "enter the dog age5\n"
     ]
    },
    {
     "data": {
      "text/plain": [
       "37"
      ]
     },
     "execution_count": 112,
     "metadata": {},
     "output_type": "execute_result"
    }
   ],
   "source": [
    "\"\"\"Exercise 1\n",
    "Rewrite the \"dog age\" exercise from chapter Conditional Statements as a function.\n",
    "\n",
    "The rules are:\n",
    "\n",
    "A one-year-old dog is roughly equivalent to a 14-year-old human being\n",
    "A dog that is two years old corresponds in development to a 22 year old person.\n",
    "Each additional dog year is equivalent to five human years.\"\"\"\n",
    "\n",
    "\n",
    "def dogage(age):\n",
    "    dogage=age\n",
    "    humanage=0\n",
    "    if dogage<=0:\n",
    "        return 'not posible'\n",
    "    elif dogage==1:\n",
    "        humanage=14\n",
    "        return humanage\n",
    "    elif dogage==2:\n",
    "        humanage=22\n",
    "        return humanage\n",
    "    else:\n",
    "        humanage=22+(dogage-2)*5\n",
    "        return humanage\n",
    "dogage(int(input(\"enter the dog age\")))\n",
    "        "
   ]
  },
  {
   "cell_type": "code",
   "execution_count": null,
   "id": "11d6a9a9",
   "metadata": {},
   "outputs": [],
   "source": []
  }
 ],
 "metadata": {
  "kernelspec": {
   "display_name": "Python 3 (ipykernel)",
   "language": "python",
   "name": "python3"
  },
  "language_info": {
   "codemirror_mode": {
    "name": "ipython",
    "version": 3
   },
   "file_extension": ".py",
   "mimetype": "text/x-python",
   "name": "python",
   "nbconvert_exporter": "python",
   "pygments_lexer": "ipython3",
   "version": "3.9.13"
  }
 },
 "nbformat": 4,
 "nbformat_minor": 5
}
