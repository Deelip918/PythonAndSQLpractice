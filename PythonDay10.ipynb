{
 "cells": [
  {
   "cell_type": "code",
   "execution_count": 1,
   "id": "30e40ecf",
   "metadata": {},
   "outputs": [
    {
     "name": "stdout",
     "output_type": "stream",
     "text": [
      "what is your nameDeelip\n",
      "my name is  Deelip .\n"
     ]
    }
   ],
   "source": [
    "name=input(\"what is your name\")\n",
    "print(\"my name is \",name,\".\")"
   ]
  },
  {
   "cell_type": "code",
   "execution_count": 5,
   "id": "1f91a7bb",
   "metadata": {},
   "outputs": [
    {
     "name": "stdout",
     "output_type": "stream",
     "text": [
      "my name is Deelip.\n"
     ]
    }
   ],
   "source": [
    "print(\"my name is \"+name+\".\") #in case of name=string only"
   ]
  },
  {
   "cell_type": "code",
   "execution_count": 4,
   "id": "3fa15382",
   "metadata": {},
   "outputs": [
    {
     "name": "stdout",
     "output_type": "stream",
     "text": [
      "my name is Deelip\n"
     ]
    }
   ],
   "source": [
    "print(\"my name is {}\".format(name)) #using curly braces and then formating "
   ]
  },
  {
   "cell_type": "code",
   "execution_count": 17,
   "id": "fad35175",
   "metadata": {},
   "outputs": [
    {
     "name": "stdout",
     "output_type": "stream",
     "text": [
      "what is your age24\n"
     ]
    },
    {
     "ename": "TypeError",
     "evalue": "can only concatenate str (not \"int\") to str",
     "output_type": "error",
     "traceback": [
      "\u001b[1;31m---------------------------------------------------------------------------\u001b[0m",
      "\u001b[1;31mTypeError\u001b[0m                                 Traceback (most recent call last)",
      "\u001b[1;32m~\\AppData\\Local\\Temp\\ipykernel_3232\\1229227402.py\u001b[0m in \u001b[0;36m<module>\u001b[1;34m\u001b[0m\n\u001b[0;32m      1\u001b[0m \u001b[0mage\u001b[0m\u001b[1;33m=\u001b[0m\u001b[0mint\u001b[0m\u001b[1;33m(\u001b[0m\u001b[0minput\u001b[0m\u001b[1;33m(\u001b[0m\u001b[1;34m\"what is your age\"\u001b[0m\u001b[1;33m)\u001b[0m\u001b[1;33m)\u001b[0m\u001b[1;33m\u001b[0m\u001b[1;33m\u001b[0m\u001b[0m\n\u001b[1;32m----> 2\u001b[1;33m \u001b[0mprint\u001b[0m\u001b[1;33m(\u001b[0m\u001b[1;34m\"my name is \"\u001b[0m\u001b[1;33m+\u001b[0m\u001b[0mname\u001b[0m\u001b[1;33m+\u001b[0m\u001b[1;34m\"i am year\"\u001b[0m\u001b[1;33m+\u001b[0m\u001b[0mage\u001b[0m\u001b[1;33m+\u001b[0m\u001b[1;34m\"old\"\u001b[0m\u001b[1;33m)\u001b[0m \u001b[1;31m#in case of variables are string only\u001b[0m\u001b[1;33m\u001b[0m\u001b[1;33m\u001b[0m\u001b[0m\n\u001b[0m",
      "\u001b[1;31mTypeError\u001b[0m: can only concatenate str (not \"int\") to str"
     ]
    }
   ],
   "source": [
    "age=int(input(\"what is your age\"))\n",
    "print(\"my name is \"+name+\"i am year\"+age+\"old\") #in case of variables are string only"
   ]
  },
  {
   "cell_type": "code",
   "execution_count": 18,
   "id": "b6ddd10f",
   "metadata": {},
   "outputs": [
    {
     "name": "stdout",
     "output_type": "stream",
     "text": [
      "what is your age24\n",
      "my name is Deelip,i am year24old\n"
     ]
    }
   ],
   "source": [
    "age=int(input(\"what is your age\"))\n",
    "print(\"my name is \"+name+\",i am year\"+str(age)+\"old\") #in case of variables are string only"
   ]
  },
  {
   "cell_type": "code",
   "execution_count": 11,
   "id": "01058484",
   "metadata": {},
   "outputs": [
    {
     "name": "stdout",
     "output_type": "stream",
     "text": [
      "my name is Deelip i am year 24 old\n"
     ]
    }
   ],
   "source": [
    "print(\"my name is {} i am year {} old\".format(name,age))"
   ]
  },
  {
   "cell_type": "code",
   "execution_count": 26,
   "id": "292acb05",
   "metadata": {},
   "outputs": [
    {
     "name": "stdout",
     "output_type": "stream",
     "text": [
      "['english', 'Hindi']\n",
      "Hellow\n",
      "Namste\n"
     ]
    }
   ],
   "source": [
    "language=\"english,Hindi\"\n",
    "lang=language.split(',')\n",
    "print(lang)\n",
    "for d in lang:\n",
    "    if d=='english':\n",
    "        print(\"Hellow\")\n",
    "    if d=='Hindi':\n",
    "        print(\"Namste\")\n",
    "    else:\n",
    "        print('')"
   ]
  },
  {
   "cell_type": "code",
   "execution_count": 32,
   "id": "9f1da26d",
   "metadata": {},
   "outputs": [
    {
     "name": "stdout",
     "output_type": "stream",
     "text": [
      "enter number34\n",
      "sum of the given number 34 is 595\n",
      "sum of the given number 34 is 595\n"
     ]
    }
   ],
   "source": [
    "#sum till the given number\n",
    "num=int(input(\"enter number\"))\n",
    "sum=0\n",
    "count=1\n",
    "while count<=num:\n",
    "    sum=sum+count\n",
    "    count+=1\n",
    "print(\"sum of the given number \"+str(num)+\" is \"+str(sum))\n",
    "print(\"sum of the given number {} is {}\".format(num,sum))"
   ]
  },
  {
   "cell_type": "code",
   "execution_count": 40,
   "id": "52443a17",
   "metadata": {},
   "outputs": [
    {
     "name": "stdout",
     "output_type": "stream",
     "text": [
      "guess the number 50\n",
      "number is smaller\n",
      "guess the number 75\n",
      "number is smaller\n",
      "guess the number 88\n",
      "number is smaller\n",
      "guess the number 95\n",
      "number is smaller\n",
      "guess the number 98\n",
      "number is smaller\n",
      "guess the number 99\n",
      "number is smaller\n",
      "guess the number 100\n",
      "player win in 7 chance\n",
      "thankyou for playing\n"
     ]
    }
   ],
   "source": [
    "import random\n",
    "gennum=random.randint(1,100)\n",
    "counter =1\n",
    "guess_num=0\n",
    "while guess_num!=gennum:\n",
    "    guess_num=int(input(\"guess the number \"))\n",
    "    if guess_num>gennum:\n",
    "        print(\"number is greater\")\n",
    "    elif guess_num<gennum:\n",
    "        print(\"number is smaller\")\n",
    "    elif guess_num==0:\n",
    "        print(\"player quit\")\n",
    "        break\n",
    "    elif guess_num==gennum:\n",
    "        print(\"player win in {} chance\".format(counter))\n",
    "    else:\n",
    "        print(\"number is not valid\")\n",
    "    counter+=1\n",
    "else:\n",
    "    print(\"thankyou for playing\")"
   ]
  },
  {
   "cell_type": "code",
   "execution_count": null,
   "id": "4c1cd50f",
   "metadata": {},
   "outputs": [],
   "source": []
  }
 ],
 "metadata": {
  "kernelspec": {
   "display_name": "Python 3 (ipykernel)",
   "language": "python",
   "name": "python3"
  },
  "language_info": {
   "codemirror_mode": {
    "name": "ipython",
    "version": 3
   },
   "file_extension": ".py",
   "mimetype": "text/x-python",
   "name": "python",
   "nbconvert_exporter": "python",
   "pygments_lexer": "ipython3",
   "version": "3.9.13"
  }
 },
 "nbformat": 4,
 "nbformat_minor": 5
}
