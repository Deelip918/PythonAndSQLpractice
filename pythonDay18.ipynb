{
 "cells": [
  {
   "cell_type": "code",
   "execution_count": 43,
   "id": "048e123b",
   "metadata": {},
   "outputs": [
    {
     "name": "stdout",
     "output_type": "stream",
     "text": [
      "enter num1 5\n",
      "enter num2 10\n",
      "sum of even no. is 24 and sum of odd no. is 21\n"
     ]
    }
   ],
   "source": [
    "num1=int(input(\"enter num1 \"))\n",
    "num2=int(input(\"enter num2 \"))\n",
    "sumOfodd=0\n",
    "sumOfeven=0\n",
    "for i in range(num1,num2+1):\n",
    "    if i%2==0:\n",
    "        sumOfeven+=i\n",
    "    else:\n",
    "        sumOfodd+=i\n",
    "print(f\"sum of even no. is {sumOfeven} and sum of odd no. is {sumOfodd}\")"
   ]
  },
  {
   "cell_type": "code",
   "execution_count": 44,
   "id": "6da6ad1c",
   "metadata": {},
   "outputs": [
    {
     "name": "stdout",
     "output_type": "stream",
     "text": [
      "4\n",
      "8\n",
      "12\n",
      "16\n",
      "24\n"
     ]
    }
   ],
   "source": [
    "numbers = [3,4,5,6,7,8,9,10,11,12,13,14,15,16,17,18]\n",
    "numbers2 = [21,22,23,24,25]\n",
    "combine = numbers + numbers2\n",
    " \n",
    "for number in combine:\n",
    "    if number%4==0:\n",
    "        print(number)"
   ]
  },
  {
   "cell_type": "markdown",
   "id": "8f07f231",
   "metadata": {},
   "source": [
    "# python collection"
   ]
  },
  {
   "cell_type": "markdown",
   "id": "2a6db11b",
   "metadata": {},
   "source": [
    "Counter: A dict subclass that counts the occurrences of hashable objects.\n",
    "\n",
    "defaultdict: A dict subclass that returns a default value when a missing key is accessed.\n",
    "\n",
    "OrderedDict: A dict subclass that remembers the order that keys were first inserted.\n",
    "\n",
    "deque: A list-like container with fast appends and pops on both ends.\n",
    "\n",
    "namedtuple: A factory function for creating tuple subclasses with named fields."
   ]
  },
  {
   "cell_type": "code",
   "execution_count": 6,
   "id": "ddc87da6",
   "metadata": {},
   "outputs": [
    {
     "name": "stdout",
     "output_type": "stream",
     "text": [
      "Counter({'a': 3, 'b': 2, 'c': 1})\n",
      "{'a': 3, 'b': 2, 'c': 1}\n"
     ]
    }
   ],
   "source": [
    "from collections import Counter\n",
    "\n",
    "lst = ['a', 'b', 'c', 'a', 'b', 'a']\n",
    "counter = Counter(lst)\n",
    "print(counter)\n",
    "print(dict(counter))"
   ]
  },
  {
   "cell_type": "code",
   "execution_count": 32,
   "id": "a2a356bc",
   "metadata": {},
   "outputs": [
    {
     "name": "stdout",
     "output_type": "stream",
     "text": [
      "{'a': 1, 'b': 1}\n",
      "defaultdict(<class 'int'>, {'a': 1, 'b': 1})\n",
      "0\n"
     ]
    }
   ],
   "source": [
    "from collections import defaultdict\n",
    "\n",
    "my_dict = defaultdict(int)\n",
    "my_dict['a'] = 1\n",
    "my_dict['b'] += 1\n",
    "print(dict(my_dict))  # Output: defaultdict(<class 'int'>, {'a': 1, 'b': 1})\n",
    "print(my_dict)\n",
    "print(my_dict['c'])"
   ]
  },
  {
   "cell_type": "code",
   "execution_count": 34,
   "id": "8d7272c4",
   "metadata": {},
   "outputs": [
    {
     "name": "stdout",
     "output_type": "stream",
     "text": [
      "OrderedDict([('c', 1), ('b', 2), ('a', 3)])\n",
      "{'c': 1, 'b': 2, 'a': 3}\n"
     ]
    }
   ],
   "source": [
    "from collections import OrderedDict\n",
    "\n",
    "my_dict = OrderedDict()\n",
    "my_dict['c'] = 1\n",
    "my_dict['b'] = 2\n",
    "my_dict['a'] = 3\n",
    "print(my_dict)  # Output: OrderedDict([('a', 1), ('b', 2), ('c', 3)])\n",
    "print(dict(my_dict))"
   ]
  },
  {
   "cell_type": "code",
   "execution_count": 27,
   "id": "58e71c02",
   "metadata": {},
   "outputs": [
    {
     "name": "stdout",
     "output_type": "stream",
     "text": [
      "deque([0, 1, 2, 3, 4])\n"
     ]
    }
   ],
   "source": [
    "from collections import deque\n",
    "\n",
    "my_deque = deque([1, 2, 3])\n",
    "my_deque.append(4)\n",
    "my_deque.appendleft(0)\n",
    "print(my_deque)  # Output: deque([0, 1, 2, 3, 4])"
   ]
  },
  {
   "cell_type": "code",
   "execution_count": 28,
   "id": "50279d3a",
   "metadata": {},
   "outputs": [
    {
     "name": "stdout",
     "output_type": "stream",
     "text": [
      "1 2\n"
     ]
    }
   ],
   "source": [
    "from collections import namedtuple\n",
    "\n",
    "Point = namedtuple('Point', ['x', 'y'])\n",
    "p = Point(1, 2)\n",
    "print(p.x, p.y)"
   ]
  },
  {
   "cell_type": "code",
   "execution_count": 35,
   "id": "c0692d13",
   "metadata": {},
   "outputs": [
    {
     "name": "stdout",
     "output_type": "stream",
     "text": [
      "7\n",
      "7 is a prime no.\n"
     ]
    }
   ],
   "source": [
    "num=int(input())\n",
    "if num>1:    \n",
    "    for i in range(2,num):\n",
    "        if num%2==0:\n",
    "            print(f\"{num} is not a prime no.\")\n",
    "            print(f\"{i} times {num//i} ={num}\")\n",
    "            break\n",
    "    else:\n",
    "        print(f\"{num} is a prime no.\")\n",
    "else:\n",
    "    print(\"not a prime no.\")"
   ]
  },
  {
   "cell_type": "code",
   "execution_count": 39,
   "id": "afba45c1",
   "metadata": {},
   "outputs": [
    {
     "name": "stdout",
     "output_type": "stream",
     "text": [
      "[True, True, True, False]\n",
      "False\n"
     ]
    }
   ],
   "source": [
    "char_list = [\"a\", \"b\" ,\"c\"]\n",
    "string = \"abcd\"\n",
    "matched_list = [characters in char_list for characters in string]\n",
    "print(matched_list)\n",
    "string_contains_chars = all(matched_list)\n",
    "print(string_contains_chars)"
   ]
  },
  {
   "cell_type": "code",
   "execution_count": 41,
   "id": "48787c3b",
   "metadata": {},
   "outputs": [
    {
     "name": "stdout",
     "output_type": "stream",
     "text": [
      "enter an number: 5\n",
      "The absolute value of the number:  5\n"
     ]
    }
   ],
   "source": [
    "number = input(\"enter an number: \")\n",
    "number = int(number)\n",
    "if number<0:\n",
    "    number*=-1\n",
    "print(\"The absolute value of the number: \",number)"
   ]
  },
  {
   "cell_type": "code",
   "execution_count": 42,
   "id": "e06fd5e2",
   "metadata": {},
   "outputs": [
    {
     "name": "stdout",
     "output_type": "stream",
     "text": [
      "0\n",
      "1\n",
      "1\n",
      "2\n",
      "3\n",
      "5\n",
      "8\n",
      "13\n",
      "21\n",
      "34\n"
     ]
    }
   ],
   "source": [
    "def fibonacci():\n",
    "    a, b = 0, 1\n",
    "    while True:\n",
    "        yield a\n",
    "        a, b = b, a + b\n",
    "\n",
    "fib = fibonacci()\n",
    "for i in range(10):\n",
    "    print(next(fib))"
   ]
  },
  {
   "cell_type": "code",
   "execution_count": null,
   "id": "e7bcb710",
   "metadata": {},
   "outputs": [],
   "source": []
  }
 ],
 "metadata": {
  "kernelspec": {
   "display_name": "Python 3 (ipykernel)",
   "language": "python",
   "name": "python3"
  },
  "language_info": {
   "codemirror_mode": {
    "name": "ipython",
    "version": 3
   },
   "file_extension": ".py",
   "mimetype": "text/x-python",
   "name": "python",
   "nbconvert_exporter": "python",
   "pygments_lexer": "ipython3",
   "version": "3.9.13"
  }
 },
 "nbformat": 4,
 "nbformat_minor": 5
}
