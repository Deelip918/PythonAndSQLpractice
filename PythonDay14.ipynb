{
 "cells": [
  {
   "cell_type": "code",
   "execution_count": null,
   "id": "2b414363",
   "metadata": {},
   "outputs": [],
   "source": []
  },
  {
   "cell_type": "code",
   "execution_count": 35,
   "id": "2931e8c4",
   "metadata": {},
   "outputs": [],
   "source": [
    "file = open('SQLday9.txt', 'r')\n",
    "rd=file.read()\n",
    "rdw=rd.upper()\n",
    "with open('SQLday9T.txt','w') as outfile:\n",
    "    outfile.write(rdw)\n"
   ]
  },
  {
   "cell_type": "code",
   "execution_count": 39,
   "id": "89b1ef97",
   "metadata": {},
   "outputs": [
    {
     "name": "stdout",
     "output_type": "stream",
     "text": [
      "Q1--HTTPS://LEETCODE.COM/PROBLEMS/TOP-TRAVELLERS/DESCRIPTION/?ENVTYPE=STUDY-PLAN&ID=SQL-I\n",
      "\n",
      "--RETURN THE RESULT TABLE ORDERED BY TRAVELLED_DISTANCE IN DESCENDING ORDER, IF TWO OR MORE USERS TRAVELED THE SAME DISTANCE, ORDER THEM BY THEIR NAME IN ASCENDING ORDER.\n",
      "\n",
      "\n",
      "\n",
      "WITH CTE AS (SELECT USER_ID,SUM(DISTANCE) AS TRAVELLED_DISTANCE\n",
      "\n",
      "FROM RIDES\n",
      "\n",
      "GROUP BY USER_ID)\n",
      "\n",
      "SELECT NAME,COALESCE(TRAVELLED_DISTANCE,0) AS TRAVELLED_DISTANCE\n",
      "\n",
      "FROM USERS\n",
      "\n",
      "LEFT JOIN CTE ON USERS.ID=CTE.USER_ID\n",
      "\n",
      "ORDER BY TRAVELLED_DISTANCE DESC,NAME\n",
      "\n",
      "\n",
      "\n",
      "Q2--HTTPS://LEETCODE.COM/PROBLEMS/DUPLICATE-EMAILS/DESCRIPTION/?ENVTYPE=STUDY-PLAN&ID=SQL-I\n",
      "\n",
      "--WRITE AN SQL QUERY TO REPORT ALL THE DUPLICATE EMAILS. NOTE THAT IT'S GUARANTEED THAT THE EMAIL FIELD IS NOT NULL.\n",
      "\n",
      "SELECT EMAIL\n",
      "\n",
      "FROM \n",
      "\n",
      "(SELECT EMAIL,COUNT(EMAIL) AS C\n",
      "\n",
      " FROM PERSON\n",
      "\n",
      " GROUP BY EMAIL\n",
      "\n",
      " HAVING C>1) AS DS  --[EVERY DERIVED TABLE MUST HAVE ITS OWN ALIAS]\n",
      "\n",
      " \n",
      "\n",
      " Q3---HTTPS://LEETCODE.COM/PROBLEMS/MARKET-ANALYSIS-I/?ENVTYPE=STUDY-PLAN&ID=SQL-I\n",
      "\n",
      "--WRITE AN SQL QUERY TO FIND FOR EACH USER, THE JOIN DATE AND THE NUMBER OF ORDERS THEY MADE AS A BUYER IN 2019.\n",
      "\n",
      "SELECT USER_ID AS BUYER_ID ,JOIN_DATE,COUNT(O.ITEM_ID) AS ORDERS_IN_2019\n",
      "\n",
      "FROM USERS U\n",
      "\n",
      "LEFT JOIN ORDERS O ON U.USER_ID=O.BUYER_ID AND YEAR(ORDER_DATE)='2019'\n",
      "\n",
      "GROUP BY U.USER_ID,JOIN_DATE\n",
      "\n",
      "\n",
      "\n"
     ]
    }
   ],
   "source": [
    "read=open('SQLday9T.txt','r')\n",
    "for each in read:\n",
    "    print(each)"
   ]
  },
  {
   "cell_type": "code",
   "execution_count": 1,
   "id": "38e8f70d",
   "metadata": {},
   "outputs": [
    {
     "name": "stdout",
     "output_type": "stream",
     "text": [
      "Q1--https://leetcode.com/problems/top-travellers/description/?envType=study-plan&id=sql-i\n",
      "--Return the result table ordered by travelled_distance in descending order, if two or more users traveled the same distance, order them by their name in ascending order.\n",
      "\n",
      "with cte as (select user_id,sum(distance) as travelled_distance\n",
      "from Rides\n",
      "group by user_id)\n",
      "select name,coalesce(travelled_distance,0) as travelled_distance\n",
      "from Users\n",
      "left join cte on users.id=cte.user_id\n",
      "order by travelled_distance desc,name\n",
      "\n",
      "Q2--https://leetcode.com/problems/duplicate-emails/description/?envType=study-plan&id=sql-i\n",
      "--Write an SQL query to report all the duplicate emails. Note that it's guaranteed that the email field is not NULL.\n",
      "select email\n",
      "from \n",
      "(select email,count(email) as c\n",
      " from Person\n",
      " group by email\n",
      " having c>1) as ds  --[Every derived table must have its own alias]\n",
      " \n",
      " Q3---https://leetcode.com/problems/market-analysis-i/?envType=study-plan&id=sql-i\n",
      "--Write an SQL query to find for each user, the join date and the number of orders they made as a buyer in 2019.\n",
      "select user_id as buyer_id ,join_date,count(o.item_id) as orders_in_2019\n",
      "from Users u\n",
      "left join Orders o on u.user_id=o.buyer_id and year(order_date)='2019'\n",
      "group by u.user_id,join_date\n",
      "\n",
      "\n",
      "Q1--HTTPS://LEETCODE.COM/PROBLEMS/TOP-TRAVELLERS/DESCRIPTION/?ENVTYPE=STUDY-PLAN&ID=SQL-I\n",
      "--RETURN THE RESULT TABLE ORDERED BY TRAVELLED_DISTANCE IN DESCENDING ORDER, IF TWO OR MORE USERS TRAVELED THE SAME DISTANCE, ORDER THEM BY THEIR NAME IN ASCENDING ORDER.\n",
      "\n",
      "WITH CTE AS (SELECT USER_ID,SUM(DISTANCE) AS TRAVELLED_DISTANCE\n",
      "FROM RIDES\n",
      "GROUP BY USER_ID)\n",
      "SELECT NAME,COALESCE(TRAVELLED_DISTANCE,0) AS TRAVELLED_DISTANCE\n",
      "FROM USERS\n",
      "LEFT JOIN CTE ON USERS.ID=CTE.USER_ID\n",
      "ORDER BY TRAVELLED_DISTANCE DESC,NAME\n",
      "\n",
      "Q2--HTTPS://LEETCODE.COM/PROBLEMS/DUPLICATE-EMAILS/DESCRIPTION/?ENVTYPE=STUDY-PLAN&ID=SQL-I\n",
      "--WRITE AN SQL QUERY TO REPORT ALL THE DUPLICATE EMAILS. NOTE THAT IT'S GUARANTEED THAT THE EMAIL FIELD IS NOT NULL.\n",
      "SELECT EMAIL\n",
      "FROM \n",
      "(SELECT EMAIL,COUNT(EMAIL) AS C\n",
      " FROM PERSON\n",
      " GROUP BY EMAIL\n",
      " HAVING C>1) AS DS  --[EVERY DERIVED TABLE MUST HAVE ITS OWN ALIAS]\n",
      " \n",
      " Q3---HTTPS://LEETCODE.COM/PROBLEMS/MARKET-ANALYSIS-I/?ENVTYPE=STUDY-PLAN&ID=SQL-I\n",
      "--WRITE AN SQL QUERY TO FIND FOR EACH USER, THE JOIN DATE AND THE NUMBER OF ORDERS THEY MADE AS A BUYER IN 2019.\n",
      "SELECT USER_ID AS BUYER_ID ,JOIN_DATE,COUNT(O.ITEM_ID) AS ORDERS_IN_2019\n",
      "FROM USERS U\n",
      "LEFT JOIN ORDERS O ON U.USER_ID=O.BUYER_ID AND YEAR(ORDER_DATE)='2019'\n",
      "GROUP BY U.USER_ID,JOIN_DATE\n",
      "\n",
      "\n"
     ]
    }
   ],
   "source": [
    "with open('SQLday9.txt', 'r') as input_file:\n",
    "    # read the contents of the file\n",
    "    input_text = input_file.read()\n",
    "    print(input_text)\n",
    "\n",
    "# process the input text\n",
    "output_text = input_text.upper()\n",
    "\n",
    "# open the output file for writing\n",
    "with open('SQLday93.txt', 'w') as output_file:\n",
    "    # write the processed text to the file\n",
    "    output_file.write(output_text)\n",
    "    \n",
    "with open('SQLday93.txt', 'r') as verify:    \n",
    "    print(verify.read())\n"
   ]
  },
  {
   "cell_type": "code",
   "execution_count": 3,
   "id": "6d4f1547",
   "metadata": {},
   "outputs": [
    {
     "name": "stdout",
     "output_type": "stream",
     "text": [
      "in3\n",
      "not a valid number\n"
     ]
    }
   ],
   "source": [
    "\n",
    "try:\n",
    "    inp=int(input())\n",
    "    print(inp)\n",
    "except:\n",
    "    print(\"not a valid number\")"
   ]
  },
  {
   "cell_type": "code",
   "execution_count": 15,
   "id": "66728dd3",
   "metadata": {},
   "outputs": [
    {
     "name": "stdout",
     "output_type": "stream",
     "text": [
      "not a valid num\n",
      "9\n",
      "c\n"
     ]
    }
   ],
   "source": [
    "inp=5\n",
    "try:\n",
    "    inp//0\n",
    "    print(inp)\n",
    "except ZeroDivisionError:\n",
    "    print(\"not a valid num\")\n",
    "finally:\n",
    "    print(\"c\")"
   ]
  },
  {
   "cell_type": "code",
   "execution_count": 22,
   "id": "76c96e16",
   "metadata": {},
   "outputs": [
    {
     "name": "stdout",
     "output_type": "stream",
     "text": [
      "IndexError finally IndexError  except ZeroDivisionError  finally ZeroDivisionError  \n"
     ]
    }
   ],
   "source": [
    "inp = [1, 2, 3, 4]\n",
    "zero = 0\n",
    "try:\n",
    "    inpt= inp[4]\n",
    "except IndexError:\n",
    "    print('IndexError ', end = '')\n",
    "except:\n",
    "    print('except IndexError  ', end = '')\n",
    "finally:\n",
    "    print('finally IndexError  ', end = '')\n",
    "  \n",
    "data = 10\n",
    "try:\n",
    "    data = data/0\n",
    "except ZeroDivisionError:\n",
    "    print('except ZeroDivisionError  ', end = '')\n",
    "finally:\n",
    "    print('finally ZeroDivisionError  ')"
   ]
  },
  {
   "cell_type": "code",
   "execution_count": 23,
   "id": "eb802cc3",
   "metadata": {},
   "outputs": [],
   "source": [
    "import re"
   ]
  },
  {
   "cell_type": "code",
   "execution_count": 30,
   "id": "bef7eef2",
   "metadata": {},
   "outputs": [
    {
     "name": "stdout",
     "output_type": "stream",
     "text": [
      "<re.Match object; span=(3, 4), match='.'>\n"
     ]
    }
   ],
   "source": [
    "word='gg . dd'\n",
    "patern=r'\\.'\n",
    "r=re.search(patern,word)\n",
    "print(r)"
   ]
  },
  {
   "cell_type": "code",
   "execution_count": 32,
   "id": "f52f2f82",
   "metadata": {},
   "outputs": [
    {
     "name": "stdout",
     "output_type": "stream",
     "text": [
      "Start Index: 11\n",
      "End Index: 17\n",
      "<re.Match object; span=(11, 17), match='deelip'>\n"
     ]
    }
   ],
   "source": [
    "s = 'my name is deelip'\n",
    " \n",
    "match = re.search(r'deelip', s)\n",
    " \n",
    "print('Start Index:', match.start())\n",
    "print('End Index:', match.end())\n",
    "print(match)"
   ]
  },
  {
   "cell_type": "code",
   "execution_count": null,
   "id": "ba1f1a84",
   "metadata": {},
   "outputs": [],
   "source": []
  }
 ],
 "metadata": {
  "kernelspec": {
   "display_name": "Python 3 (ipykernel)",
   "language": "python",
   "name": "python3"
  },
  "language_info": {
   "codemirror_mode": {
    "name": "ipython",
    "version": 3
   },
   "file_extension": ".py",
   "mimetype": "text/x-python",
   "name": "python",
   "nbconvert_exporter": "python",
   "pygments_lexer": "ipython3",
   "version": "3.9.13"
  }
 },
 "nbformat": 4,
 "nbformat_minor": 5
}
