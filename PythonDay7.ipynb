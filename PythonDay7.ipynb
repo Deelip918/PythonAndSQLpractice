{
 "cells": [
  {
   "cell_type": "code",
   "execution_count": null,
   "id": "d1f73340",
   "metadata": {},
   "outputs": [],
   "source": [
    "# https://leetcode.com/problems/length-of-last-word/\n",
    "# Given a string s consisting of words and spaces, return the length of the last word in the string.\n",
    "\n",
    "class Solution(object):\n",
    "    def lengthOfLastWord(self, s):\n",
    "        s=strip(s)\n",
    "        lst=s.split(\" \")\n",
    "        n=len(lst)\n",
    "        lastword=lst[n-1]\n",
    "        return len(lastword)"
   ]
  },
  {
   "cell_type": "markdown",
   "id": "a323e881",
   "metadata": {},
   "source": [
    "# count number of vowels using sets in given string"
   ]
  },
  {
   "cell_type": "code",
   "execution_count": 11,
   "id": "fd2ad356",
   "metadata": {},
   "outputs": [
    {
     "name": "stdout",
     "output_type": "stream",
     "text": [
      "aajdndejsknsna\n",
      "4\n"
     ]
    }
   ],
   "source": [
    "str=input()\n",
    "vowels=set('aeiou')\n",
    "count=0\n",
    "for char in str:\n",
    "    if char in vowels:\n",
    "        count=count+1\n",
    "print(count)"
   ]
  },
  {
   "cell_type": "code",
   "execution_count": 21,
   "id": "b3982f9e",
   "metadata": {},
   "outputs": [
    {
     "name": "stdout",
     "output_type": "stream",
     "text": [
      "{'a': 1, 'b': 2, 'c': 4}\n"
     ]
    }
   ],
   "source": [
    "dictt = {\"a\":1,\"b\":2,\"c\":4}\n",
    "print(dictt)"
   ]
  },
  {
   "cell_type": "code",
   "execution_count": 23,
   "id": "e6c99871",
   "metadata": {},
   "outputs": [
    {
     "name": "stdout",
     "output_type": "stream",
     "text": [
      "1\n"
     ]
    }
   ],
   "source": [
    "print(dictt['a'])"
   ]
  },
  {
   "cell_type": "code",
   "execution_count": 27,
   "id": "1b3249ce",
   "metadata": {},
   "outputs": [],
   "source": [
    "dictt['b']=[1,2,3,4,5]"
   ]
  },
  {
   "cell_type": "code",
   "execution_count": 32,
   "id": "ad2b9f87",
   "metadata": {},
   "outputs": [
    {
     "name": "stdout",
     "output_type": "stream",
     "text": [
      "{'a': 1, 'b': [1, 2, 3, 4, 5], 'c': 4, 'z': 'fresh'}\n",
      "2099387361984\n"
     ]
    }
   ],
   "source": [
    "print(dictt)\n",
    "print(id(dictt))"
   ]
  },
  {
   "cell_type": "code",
   "execution_count": 31,
   "id": "38a3822b",
   "metadata": {},
   "outputs": [],
   "source": [
    "dictt['z']='fresh'"
   ]
  },
  {
   "cell_type": "code",
   "execution_count": 34,
   "id": "b454be4f",
   "metadata": {},
   "outputs": [],
   "source": [
    "dictt['y']={1:'d',5:'w',3:'c'}"
   ]
  },
  {
   "cell_type": "code",
   "execution_count": 35,
   "id": "372dbc50",
   "metadata": {},
   "outputs": [
    {
     "name": "stdout",
     "output_type": "stream",
     "text": [
      "{'a': 1, 'b': [1, 2, 3, 4, 5], 'c': 4, 'z': 'fresh', 'y': {1: 'd', 5: 'w', 3: 'c'}}\n",
      "2099387361984\n"
     ]
    }
   ],
   "source": [
    "print(dictt)\n",
    "print(id(dictt))"
   ]
  },
  {
   "cell_type": "code",
   "execution_count": 36,
   "id": "a5aef2c6",
   "metadata": {},
   "outputs": [
    {
     "data": {
      "text/plain": [
       "{'a': 1,\n",
       " 'b': [1, 2, 3, 4, 5],\n",
       " 'c': 4,\n",
       " 'z': 'fresh',\n",
       " 'y': {1: 'd', 5: 'w', 3: 'c'}}"
      ]
     },
     "execution_count": 36,
     "metadata": {},
     "output_type": "execute_result"
    }
   ],
   "source": [
    "dictt"
   ]
  },
  {
   "cell_type": "code",
   "execution_count": 39,
   "id": "c6e56e6c",
   "metadata": {},
   "outputs": [
    {
     "name": "stdout",
     "output_type": "stream",
     "text": [
      "1\n",
      "4\n",
      "w\n"
     ]
    },
    {
     "data": {
      "text/plain": [
       "{1: 'd', 5: 'w', 3: 'c'}"
      ]
     },
     "execution_count": 39,
     "metadata": {},
     "output_type": "execute_result"
    }
   ],
   "source": [
    "# accessing values from dictionry\n",
    "print(dictt[\"a\"])\n",
    "print(dictt[\"b\"][3])\n",
    "print(dictt[\"y\"][5])\n",
    "dictt['y']"
   ]
  },
  {
   "cell_type": "code",
   "execution_count": 40,
   "id": "594113b8",
   "metadata": {},
   "outputs": [
    {
     "ename": "ModuleNotFoundError",
     "evalue": "No module named 'airflow'",
     "output_type": "error",
     "traceback": [
      "\u001b[1;31m---------------------------------------------------------------------------\u001b[0m",
      "\u001b[1;31mModuleNotFoundError\u001b[0m                       Traceback (most recent call last)",
      "\u001b[1;32m~\\AppData\\Local\\Temp\\ipykernel_6820\\3897162057.py\u001b[0m in \u001b[0;36m<module>\u001b[1;34m\u001b[0m\n\u001b[1;32m----> 1\u001b[1;33m \u001b[1;32mfrom\u001b[0m \u001b[0mairflow\u001b[0m\u001b[1;33m.\u001b[0m\u001b[0mmodels\u001b[0m \u001b[1;32mimport\u001b[0m \u001b[0mTaskInstance\u001b[0m\u001b[1;33m\u001b[0m\u001b[1;33m\u001b[0m\u001b[0m\n\u001b[0m\u001b[0;32m      2\u001b[0m \u001b[1;32mfrom\u001b[0m \u001b[0mairflow\u001b[0m\u001b[1;33m.\u001b[0m\u001b[0mutils\u001b[0m\u001b[1;33m.\u001b[0m\u001b[0memail\u001b[0m \u001b[1;32mimport\u001b[0m \u001b[0msend_email\u001b[0m\u001b[1;33m\u001b[0m\u001b[1;33m\u001b[0m\u001b[0m\n",
      "\u001b[1;31mModuleNotFoundError\u001b[0m: No module named 'airflow'"
     ]
    }
   ],
   "source": [
    "from airflow.models import TaskInstance\n",
    "from airflow.utils.email import send_email"
   ]
  },
  {
   "cell_type": "code",
   "execution_count": null,
   "id": "7fed706a",
   "metadata": {},
   "outputs": [],
   "source": []
  }
 ],
 "metadata": {
  "kernelspec": {
   "display_name": "Python 3 (ipykernel)",
   "language": "python",
   "name": "python3"
  },
  "language_info": {
   "codemirror_mode": {
    "name": "ipython",
    "version": 3
   },
   "file_extension": ".py",
   "mimetype": "text/x-python",
   "name": "python",
   "nbconvert_exporter": "python",
   "pygments_lexer": "ipython3",
   "version": "3.9.13"
  }
 },
 "nbformat": 4,
 "nbformat_minor": 5
}
