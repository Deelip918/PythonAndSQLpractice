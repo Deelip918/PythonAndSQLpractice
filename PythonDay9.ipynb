{
 "cells": [
  {
   "cell_type": "code",
   "execution_count": null,
   "id": "88d9157e",
   "metadata": {},
   "outputs": [],
   "source": [
    "sets"
   ]
  },
  {
   "cell_type": "code",
   "execution_count": 2,
   "id": "2ab9ef26",
   "metadata": {},
   "outputs": [],
   "source": [
    "seta={1,3,2,1,5}\n",
    "setb={'a','b','c','d'}\n",
    "setc={'a',2,3,4}"
   ]
  },
  {
   "cell_type": "code",
   "execution_count": 4,
   "id": "beaa94d8",
   "metadata": {},
   "outputs": [
    {
     "name": "stdout",
     "output_type": "stream",
     "text": [
      "{1, 2, 3, 5}\n",
      "{'a', 'd', 'b', 'c'}\n",
      "{'a', 2, 3, 4}\n"
     ]
    }
   ],
   "source": [
    "print(seta)\n",
    "print(setb)\n",
    "print(setc)"
   ]
  },
  {
   "cell_type": "code",
   "execution_count": 8,
   "id": "ab35d6ce",
   "metadata": {},
   "outputs": [
    {
     "ename": "AttributeError",
     "evalue": "'set' object has no attribute 'insert'",
     "output_type": "error",
     "traceback": [
      "\u001b[1;31m---------------------------------------------------------------------------\u001b[0m",
      "\u001b[1;31mAttributeError\u001b[0m                            Traceback (most recent call last)",
      "\u001b[1;32m~\\AppData\\Local\\Temp\\ipykernel_21724\\479409013.py\u001b[0m in \u001b[0;36m<module>\u001b[1;34m\u001b[0m\n\u001b[1;32m----> 1\u001b[1;33m \u001b[0mseta\u001b[0m\u001b[1;33m.\u001b[0m\u001b[0minsert\u001b[0m\u001b[1;33m(\u001b[0m\u001b[1;36m5\u001b[0m\u001b[1;33m)\u001b[0m\u001b[1;33m\u001b[0m\u001b[1;33m\u001b[0m\u001b[0m\n\u001b[0m",
      "\u001b[1;31mAttributeError\u001b[0m: 'set' object has no attribute 'insert'"
     ]
    }
   ],
   "source": [
    "seta.insert(5)"
   ]
  },
  {
   "cell_type": "code",
   "execution_count": 43,
   "id": "3ed64a4e",
   "metadata": {},
   "outputs": [],
   "source": [
    "x = set(\"A PythrRron Tutorial\")\n",
    "y=x.copy()"
   ]
  },
  {
   "cell_type": "code",
   "execution_count": 44,
   "id": "a2420fc9",
   "metadata": {},
   "outputs": [
    {
     "name": "stdout",
     "output_type": "stream",
     "text": [
      "{'l', 'y', 'a', 'o', 'R', 'A', 'n', 'T', 't', 'u', 'h', 'r', 'i', ' ', 'P'}\n",
      "2798842190528 2798842190976\n",
      "{'l', 'y', 'a', 'o', 'R', 'A', 'n', 'T', 't', 'u', 'h', 'r', 'i', ' ', 'P'}\n"
     ]
    }
   ],
   "source": [
    "print(x)\n",
    "print(id(y),id(x))\n",
    "print(y)"
   ]
  },
  {
   "cell_type": "code",
   "execution_count": 52,
   "id": "4b265f8c",
   "metadata": {},
   "outputs": [],
   "source": [
    "# passing list to make a set\n",
    "setd = set([\"Perl\", \"Python\", \"Java\"])"
   ]
  },
  {
   "cell_type": "code",
   "execution_count": 53,
   "id": "37b3bf43",
   "metadata": {},
   "outputs": [
    {
     "data": {
      "text/plain": [
       "{'Java', 'Perl', 'Python'}"
      ]
     },
     "execution_count": 53,
     "metadata": {},
     "output_type": "execute_result"
    }
   ],
   "source": [
    "setd"
   ]
  },
  {
   "cell_type": "code",
   "execution_count": 50,
   "id": "5b2f4bc1",
   "metadata": {},
   "outputs": [
    {
     "ename": "KeyError",
     "evalue": "'pop from an empty set'",
     "output_type": "error",
     "traceback": [
      "\u001b[1;31m---------------------------------------------------------------------------\u001b[0m",
      "\u001b[1;31mKeyError\u001b[0m                                  Traceback (most recent call last)",
      "\u001b[1;32m~\\AppData\\Local\\Temp\\ipykernel_21724\\1497490519.py\u001b[0m in \u001b[0;36m<module>\u001b[1;34m\u001b[0m\n\u001b[1;32m----> 1\u001b[1;33m \u001b[0msetd\u001b[0m\u001b[1;33m.\u001b[0m\u001b[0mpop\u001b[0m\u001b[1;33m(\u001b[0m\u001b[1;33m)\u001b[0m\u001b[1;33m\u001b[0m\u001b[1;33m\u001b[0m\u001b[0m\n\u001b[0m",
      "\u001b[1;31mKeyError\u001b[0m: 'pop from an empty set'"
     ]
    }
   ],
   "source": [
    "setd.pop()"
   ]
  },
  {
   "cell_type": "code",
   "execution_count": 54,
   "id": "0b862429",
   "metadata": {},
   "outputs": [],
   "source": [
    "setc=(2,3,4,1,1,4)"
   ]
  },
  {
   "cell_type": "code",
   "execution_count": 55,
   "id": "d751f70c",
   "metadata": {},
   "outputs": [
    {
     "data": {
      "text/plain": [
       "tuple"
      ]
     },
     "execution_count": 55,
     "metadata": {},
     "output_type": "execute_result"
    }
   ],
   "source": [
    "type(setc)"
   ]
  },
  {
   "cell_type": "code",
   "execution_count": 56,
   "id": "3b13766d",
   "metadata": {},
   "outputs": [],
   "source": [
    "set1=set(setc)"
   ]
  },
  {
   "cell_type": "code",
   "execution_count": 57,
   "id": "7339e807",
   "metadata": {},
   "outputs": [
    {
     "data": {
      "text/plain": [
       "{1, 2, 3, 4}"
      ]
     },
     "execution_count": 57,
     "metadata": {},
     "output_type": "execute_result"
    }
   ],
   "source": [
    "set1"
   ]
  },
  {
   "cell_type": "code",
   "execution_count": 58,
   "id": "4d6887d7",
   "metadata": {},
   "outputs": [
    {
     "data": {
      "text/plain": [
       "{2, 3, 4, 5}"
      ]
     },
     "execution_count": 58,
     "metadata": {},
     "output_type": "execute_result"
    }
   ],
   "source": [
    "{2,3,4,2,4,5,3}"
   ]
  },
  {
   "cell_type": "code",
   "execution_count": 62,
   "id": "16e3ee2e",
   "metadata": {},
   "outputs": [
    {
     "data": {
      "text/plain": [
       "set"
      ]
     },
     "execution_count": 62,
     "metadata": {},
     "output_type": "execute_result"
    }
   ],
   "source": [
    "type(Out[58])"
   ]
  },
  {
   "cell_type": "code",
   "execution_count": 63,
   "id": "923232ef",
   "metadata": {},
   "outputs": [
    {
     "data": {
      "text/plain": [
       "{1, 2, 3, 4}"
      ]
     },
     "execution_count": 63,
     "metadata": {},
     "output_type": "execute_result"
    }
   ],
   "source": [
    "set1"
   ]
  },
  {
   "cell_type": "code",
   "execution_count": 70,
   "id": "9c995466",
   "metadata": {},
   "outputs": [],
   "source": [
    "set1.add(\"4\")"
   ]
  },
  {
   "cell_type": "code",
   "execution_count": 72,
   "id": "a10d3322",
   "metadata": {},
   "outputs": [
    {
     "name": "stdout",
     "output_type": "stream",
     "text": [
      "{1, 2, 3, 4, '4'}\n"
     ]
    }
   ],
   "source": [
    "print(set1)"
   ]
  },
  {
   "cell_type": "code",
   "execution_count": 88,
   "id": "8cf825fe",
   "metadata": {},
   "outputs": [],
   "source": [
    "set2=set1.copy()"
   ]
  },
  {
   "cell_type": "code",
   "execution_count": 91,
   "id": "8b692948",
   "metadata": {},
   "outputs": [
    {
     "data": {
      "text/plain": [
       "'4'"
      ]
     },
     "execution_count": 91,
     "metadata": {},
     "output_type": "execute_result"
    }
   ],
   "source": [
    "set2.pop()"
   ]
  },
  {
   "cell_type": "code",
   "execution_count": 84,
   "id": "5260256c",
   "metadata": {},
   "outputs": [
    {
     "name": "stdout",
     "output_type": "stream",
     "text": [
      "{1, 2, 3, 4, '4'}\n",
      "{1, 2, 3, 4, '4'}\n"
     ]
    },
    {
     "data": {
      "text/plain": [
       "True"
      ]
     },
     "execution_count": 84,
     "metadata": {},
     "output_type": "execute_result"
    }
   ],
   "source": [
    "print(set1)\n",
    "print(set2)\n",
    "set2.issubset(set1)"
   ]
  },
  {
   "cell_type": "code",
   "execution_count": 89,
   "id": "83af2dec",
   "metadata": {},
   "outputs": [
    {
     "name": "stdout",
     "output_type": "stream",
     "text": [
      "2798842190752\n",
      "2798842389216\n"
     ]
    }
   ],
   "source": [
    "print(id(set1))\n",
    "print(id(set2))"
   ]
  },
  {
   "cell_type": "code",
   "execution_count": 92,
   "id": "d87ae642",
   "metadata": {},
   "outputs": [
    {
     "name": "stdout",
     "output_type": "stream",
     "text": [
      "{2, 3, 4, '4'}\n",
      "{2, 3, 4}\n"
     ]
    },
    {
     "data": {
      "text/plain": [
       "True"
      ]
     },
     "execution_count": 92,
     "metadata": {},
     "output_type": "execute_result"
    }
   ],
   "source": [
    "print(set1)\n",
    "print(set2)\n",
    "set2.issubset(set1)"
   ]
  },
  {
   "cell_type": "code",
   "execution_count": 94,
   "id": "f415422f",
   "metadata": {},
   "outputs": [
    {
     "name": "stdout",
     "output_type": "stream",
     "text": [
      "{2, 3, 4, '4'}\n",
      "{2, 3, 4}\n"
     ]
    },
    {
     "data": {
      "text/plain": [
       "False"
      ]
     },
     "execution_count": 94,
     "metadata": {},
     "output_type": "execute_result"
    }
   ],
   "source": [
    "print(set1)\n",
    "print(set2)\n",
    "set2.issuperset(set1)"
   ]
  },
  {
   "cell_type": "code",
   "execution_count": 104,
   "id": "e78a2416",
   "metadata": {},
   "outputs": [
    {
     "name": "stdout",
     "output_type": "stream",
     "text": [
      "set()\n",
      "None\n"
     ]
    }
   ],
   "source": [
    "print(set2-set2)\n",
    "print(set1.add('set2'))"
   ]
  },
  {
   "cell_type": "code",
   "execution_count": 105,
   "id": "135c8363",
   "metadata": {},
   "outputs": [
    {
     "name": "stdout",
     "output_type": "stream",
     "text": [
      "{2, 3, 4, 'set2', '4'}\n",
      "{2, 3, 4}\n"
     ]
    }
   ],
   "source": [
    "print(set1)\n",
    "print(set2)"
   ]
  },
  {
   "cell_type": "code",
   "execution_count": 106,
   "id": "96931db7",
   "metadata": {},
   "outputs": [
    {
     "data": {
      "text/plain": [
       "{'4', 'set2'}"
      ]
     },
     "execution_count": 106,
     "metadata": {},
     "output_type": "execute_result"
    }
   ],
   "source": [
    "set1.difference(set2)"
   ]
  },
  {
   "cell_type": "code",
   "execution_count": 107,
   "id": "a927f2dd",
   "metadata": {},
   "outputs": [
    {
     "data": {
      "text/plain": [
       "{2, 3, 4}"
      ]
     },
     "execution_count": 107,
     "metadata": {},
     "output_type": "execute_result"
    }
   ],
   "source": [
    "set1.intersection(set2)"
   ]
  },
  {
   "cell_type": "code",
   "execution_count": 108,
   "id": "85d8af86",
   "metadata": {},
   "outputs": [],
   "source": [
    "set1.difference_update(set2)"
   ]
  },
  {
   "cell_type": "code",
   "execution_count": 109,
   "id": "7840eb89",
   "metadata": {},
   "outputs": [
    {
     "data": {
      "text/plain": [
       "{'4', 'set2'}"
      ]
     },
     "execution_count": 109,
     "metadata": {},
     "output_type": "execute_result"
    }
   ],
   "source": [
    "set1"
   ]
  },
  {
   "cell_type": "code",
   "execution_count": 110,
   "id": "c4d90c3f",
   "metadata": {},
   "outputs": [
    {
     "data": {
      "text/plain": [
       "{2, 3, 4}"
      ]
     },
     "execution_count": 110,
     "metadata": {},
     "output_type": "execute_result"
    }
   ],
   "source": [
    "set2"
   ]
  },
  {
   "cell_type": "code",
   "execution_count": 113,
   "id": "f9aa2824",
   "metadata": {},
   "outputs": [],
   "source": [
    "set1.discard(\"4\")"
   ]
  },
  {
   "cell_type": "code",
   "execution_count": 114,
   "id": "8ad1f3e1",
   "metadata": {},
   "outputs": [
    {
     "data": {
      "text/plain": [
       "{'set2'}"
      ]
     },
     "execution_count": 114,
     "metadata": {},
     "output_type": "execute_result"
    }
   ],
   "source": [
    "set1"
   ]
  },
  {
   "cell_type": "code",
   "execution_count": null,
   "id": "043ee18f",
   "metadata": {},
   "outputs": [],
   "source": []
  }
 ],
 "metadata": {
  "kernelspec": {
   "display_name": "Python 3 (ipykernel)",
   "language": "python",
   "name": "python3"
  },
  "language_info": {
   "codemirror_mode": {
    "name": "ipython",
    "version": 3
   },
   "file_extension": ".py",
   "mimetype": "text/x-python",
   "name": "python",
   "nbconvert_exporter": "python",
   "pygments_lexer": "ipython3",
   "version": "3.9.13"
  }
 },
 "nbformat": 4,
 "nbformat_minor": 5
}
