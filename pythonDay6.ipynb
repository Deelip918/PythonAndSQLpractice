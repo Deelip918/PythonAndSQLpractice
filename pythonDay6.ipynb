{
 "cells": [
  {
   "cell_type": "markdown",
   "id": "691d9552",
   "metadata": {},
   "source": [
    "# Reverse words in a given String in Python"
   ]
  },
  {
   "cell_type": "code",
   "execution_count": 6,
   "id": "1baefe3f",
   "metadata": {},
   "outputs": [
    {
     "name": "stdout",
     "output_type": "stream",
     "text": [
      "input for reversing\n",
      "reversing for input \n"
     ]
    }
   ],
   "source": [
    "str=input()\n",
    "str_list=str.split(\" \")\n",
    "str_rev=str_list[::-1]\n",
    "s=''\n",
    "for i in str_rev:\n",
    "    s=s+i+' '\n",
    "print(s)\n",
    "    "
   ]
  },
  {
   "cell_type": "markdown",
   "id": "639d7d70",
   "metadata": {},
   "source": [
    "# Python program to print even length words in a string"
   ]
  },
  {
   "cell_type": "code",
   "execution_count": 8,
   "id": "d0b83ce0",
   "metadata": {},
   "outputs": [
    {
     "name": "stdout",
     "output_type": "stream",
     "text": [
      "input for returning even len word in string\n",
      "even\n",
      "word\n",
      "in\n",
      "string\n"
     ]
    }
   ],
   "source": [
    "str1=input()\n",
    "str_l=str1.split(\" \")\n",
    "for i in str_l:\n",
    "    if len(i)%2==0:\n",
    "        print(i)\n",
    "        \n"
   ]
  },
  {
   "cell_type": "markdown",
   "id": "247b16fa",
   "metadata": {},
   "source": [
    "# Python program to capitalize the first letter and small case other character of each word in a string"
   ]
  },
  {
   "cell_type": "code",
   "execution_count": 16,
   "id": "b2ddaf76",
   "metadata": {},
   "outputs": [
    {
     "name": "stdout",
     "output_type": "stream",
     "text": [
      "input for capitalizing each word\n",
      "Input For Capitalizing Each Word \n"
     ]
    }
   ],
   "source": [
    "str_s=input().split(\" \")\n",
    "new=''\n",
    "for i in str_s:\n",
    "    new =new +i[0].upper()+i[1:len(i)].lower()+' '\n",
    "print(new)"
   ]
  },
  {
   "cell_type": "markdown",
   "id": "4837f5da",
   "metadata": {},
   "source": [
    "# Python program to check if a string has at least one letter and one number"
   ]
  },
  {
   "cell_type": "code",
   "execution_count": 23,
   "id": "eb7767fb",
   "metadata": {},
   "outputs": [
    {
     "name": "stdout",
     "output_type": "stream",
     "text": [
      "jhksadgwe567e\n",
      "one string and one intiger is present\n"
     ]
    }
   ],
   "source": [
    "str_t=input()\n",
    "count1=0\n",
    "count2=0\n",
    "for word in str_t:\n",
    "    if word.isdigit():\n",
    "        count1=count1+1\n",
    "    elif word.isalpha():\n",
    "        count2=count2+1\n",
    "if(count1>=1 and count2>=1):\n",
    "    print(\"at least one string and one intiger is present\")\n",
    "else:\n",
    "    print(\"not present\")"
   ]
  },
  {
   "cell_type": "code",
   "execution_count": null,
   "id": "6da7aeb1",
   "metadata": {},
   "outputs": [],
   "source": []
  }
 ],
 "metadata": {
  "kernelspec": {
   "display_name": "Python 3 (ipykernel)",
   "language": "python",
   "name": "python3"
  },
  "language_info": {
   "codemirror_mode": {
    "name": "ipython",
    "version": 3
   },
   "file_extension": ".py",
   "mimetype": "text/x-python",
   "name": "python",
   "nbconvert_exporter": "python",
   "pygments_lexer": "ipython3",
   "version": "3.9.13"
  }
 },
 "nbformat": 4,
 "nbformat_minor": 5
}
