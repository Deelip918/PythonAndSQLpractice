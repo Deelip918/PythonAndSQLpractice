{
 "cells": [
  {
   "cell_type": "code",
   "execution_count": 2,
   "id": "32074c9a",
   "metadata": {},
   "outputs": [
    {
     "name": "stdout",
     "output_type": "stream",
     "text": [
      "Hello everyone\n"
     ]
    }
   ],
   "source": [
    "def greet():\n",
    "    print(\"Hello everyone\")\n",
    "greet()"
   ]
  },
  {
   "cell_type": "code",
   "execution_count": 3,
   "id": "449fcbc5",
   "metadata": {},
   "outputs": [
    {
     "name": "stdout",
     "output_type": "stream",
     "text": [
      "Deelip\n",
      "Hello Deelip\n"
     ]
    }
   ],
   "source": [
    "def greet(name):\n",
    "    print(\"Hello\",name)\n",
    "greet(input())"
   ]
  },
  {
   "cell_type": "code",
   "execution_count": 5,
   "id": "6f437815",
   "metadata": {},
   "outputs": [
    {
     "name": "stdout",
     "output_type": "stream",
     "text": [
      "control\n",
      "here\n",
      "hello Deelip\n",
      "control1\n"
     ]
    }
   ],
   "source": [
    "print(\"control\")\n",
    "def greet(name):\n",
    "    print(\"hello \"+str(name))\n",
    "print(\"here\")\n",
    "greet(\"Deelip\")\n",
    "print(\"control1\")"
   ]
  },
  {
   "cell_type": "code",
   "execution_count": null,
   "id": "afa4bc64",
   "metadata": {},
   "outputs": [],
   "source": [
    "def function-name(Parameter list):\n",
    "    statements, i.e. the function body"
   ]
  },
  {
   "cell_type": "code",
   "execution_count": 12,
   "id": "c22bf3ff",
   "metadata": {},
   "outputs": [
    {
     "name": "stdout",
     "output_type": "stream",
     "text": [
      "11\n",
      "30\n",
      "9\n",
      "14\n",
      "11\n",
      "30\n"
     ]
    }
   ],
   "source": [
    "def func(a,b):\n",
    "    print(a+b)\n",
    "    print(a*b)\n",
    "a=2 \n",
    "func(a,a+5)\n",
    "a=5 \n",
    "b=6\n",
    "func(a,b)\n"
   ]
  },
  {
   "cell_type": "code",
   "execution_count": 13,
   "id": "944723ed",
   "metadata": {},
   "outputs": [
    {
     "ename": "NameError",
     "evalue": "name 'dee' is not defined",
     "output_type": "error",
     "traceback": [
      "\u001b[1;31m---------------------------------------------------------------------------\u001b[0m",
      "\u001b[1;31mNameError\u001b[0m                                 Traceback (most recent call last)",
      "\u001b[1;32m~\\AppData\\Local\\Temp\\ipykernel_19336\\3381575246.py\u001b[0m in \u001b[0;36m<module>\u001b[1;34m\u001b[0m\n\u001b[1;32m----> 1\u001b[1;33m \u001b[0mdee\u001b[0m\u001b[1;33m(\u001b[0m\u001b[1;36m3\u001b[0m\u001b[1;33m,\u001b[0m\u001b[1;36m4\u001b[0m\u001b[1;33m)\u001b[0m\u001b[1;33m\u001b[0m\u001b[1;33m\u001b[0m\u001b[0m\n\u001b[0m\u001b[0;32m      2\u001b[0m \u001b[1;32mdef\u001b[0m \u001b[0mdee\u001b[0m\u001b[1;33m(\u001b[0m\u001b[0ma\u001b[0m\u001b[1;33m)\u001b[0m\u001b[1;33m:\u001b[0m\u001b[1;33m\u001b[0m\u001b[1;33m\u001b[0m\u001b[0m\n\u001b[0;32m      3\u001b[0m     \u001b[0mprint\u001b[0m\u001b[1;33m(\u001b[0m\u001b[0ma\u001b[0m\u001b[1;33m)\u001b[0m\u001b[1;33m\u001b[0m\u001b[1;33m\u001b[0m\u001b[0m\n",
      "\u001b[1;31mNameError\u001b[0m: name 'dee' is not defined"
     ]
    }
   ],
   "source": [
    "dee(3,4) #we cant call function before defining the function\n",
    "def dee(a):\n",
    "    print(a)\n"
   ]
  },
  {
   "cell_type": "code",
   "execution_count": 27,
   "id": "7b646c58",
   "metadata": {},
   "outputs": [
    {
     "name": "stdout",
     "output_type": "stream",
     "text": [
      "(3, 4) (3, 4)\n"
     ]
    },
    {
     "data": {
      "text/plain": [
       "(3, 4)"
      ]
     },
     "execution_count": 27,
     "metadata": {},
     "output_type": "execute_result"
    }
   ],
   "source": [
    " #we cant call function before defining the function\n",
    "def dee(*a):\n",
    "    print(a,a)\n",
    "    return a\n",
    "dee(3,4)"
   ]
  },
  {
   "cell_type": "code",
   "execution_count": 15,
   "id": "d623354c",
   "metadata": {},
   "outputs": [
    {
     "name": "stdout",
     "output_type": "stream",
     "text": [
      "squre of 0 is 0\n",
      "squre of 1 is 1\n",
      "squre of 2 is 4\n",
      "squre of 3 is 9\n",
      "squre of 4 is 16\n",
      "squre of 5 is 25\n",
      "squre of 6 is 36\n",
      "squre of 7 is 49\n",
      "squre of 8 is 64\n"
     ]
    }
   ],
   "source": [
    "def sqrt(x):\n",
    "    z=x*x\n",
    "    return z\n",
    "for i in range(9):\n",
    "    print(\"squre of {} is {}\".format(i,sqrt(i)))"
   ]
  },
  {
   "cell_type": "code",
   "execution_count": null,
   "id": "04cd0b6f",
   "metadata": {},
   "outputs": [],
   "source": []
  }
 ],
 "metadata": {
  "kernelspec": {
   "display_name": "Python 3 (ipykernel)",
   "language": "python",
   "name": "python3"
  },
  "language_info": {
   "codemirror_mode": {
    "name": "ipython",
    "version": 3
   },
   "file_extension": ".py",
   "mimetype": "text/x-python",
   "name": "python",
   "nbconvert_exporter": "python",
   "pygments_lexer": "ipython3",
   "version": "3.9.13"
  }
 },
 "nbformat": 4,
 "nbformat_minor": 5
}
