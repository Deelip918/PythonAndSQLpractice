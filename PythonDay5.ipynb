{
 "cells": [
  {
   "cell_type": "code",
   "execution_count": 11,
   "id": "e6adaeb0",
   "metadata": {},
   "outputs": [
    {
     "name": "stdout",
     "output_type": "stream",
     "text": [
      "4\n",
      "2\n",
      "5\n",
      "1\n",
      "7\n"
     ]
    }
   ],
   "source": [
    "listA=[]\n",
    "n=int(input())\n",
    "for i in range(0,n):\n",
    "    listA.append(int(input()))\n"
   ]
  },
  {
   "cell_type": "code",
   "execution_count": 12,
   "id": "423980cf",
   "metadata": {},
   "outputs": [
    {
     "data": {
      "text/plain": [
       "[2, 5, 1, 7]"
      ]
     },
     "execution_count": 12,
     "metadata": {},
     "output_type": "execute_result"
    }
   ],
   "source": [
    "listA"
   ]
  },
  {
   "cell_type": "markdown",
   "id": "515ca0ce",
   "metadata": {},
   "source": [
    "# copying or clonning list object"
   ]
  },
  {
   "cell_type": "code",
   "execution_count": 13,
   "id": "d7cfce14",
   "metadata": {},
   "outputs": [],
   "source": [
    "# by slicing technique\n",
    "listA1=listA[:]"
   ]
  },
  {
   "cell_type": "code",
   "execution_count": 16,
   "id": "676199e3",
   "metadata": {},
   "outputs": [
    {
     "name": "stdout",
     "output_type": "stream",
     "text": [
      "[2, 5, 1, 7]\n",
      "3017454857472\n",
      "[2, 5, 1, 7]\n",
      "3017453965568\n"
     ]
    }
   ],
   "source": [
    "print(listA1)\n",
    "print(id(listA1))\n",
    "print(listA)\n",
    "print(id(listA))"
   ]
  },
  {
   "cell_type": "code",
   "execution_count": 19,
   "id": "0188012f",
   "metadata": {},
   "outputs": [],
   "source": [
    "listA2=[]\n",
    "listA2.extend(listA)\n"
   ]
  },
  {
   "cell_type": "code",
   "execution_count": 20,
   "id": "1c58661b",
   "metadata": {},
   "outputs": [
    {
     "name": "stdout",
     "output_type": "stream",
     "text": [
      "[2, 5, 1, 7]\n",
      "3017454887424\n"
     ]
    }
   ],
   "source": [
    "print(listA2)\n",
    "print(id(listA2))\n"
   ]
  },
  {
   "cell_type": "code",
   "execution_count": 21,
   "id": "11c352a7",
   "metadata": {},
   "outputs": [],
   "source": [
    "list3=listA # assign will reffer to same address"
   ]
  },
  {
   "cell_type": "code",
   "execution_count": 22,
   "id": "0d10e25e",
   "metadata": {},
   "outputs": [
    {
     "name": "stdout",
     "output_type": "stream",
     "text": [
      "[2, 5, 1, 7]\n",
      "3017453965568\n",
      "[2, 5, 1, 7]\n",
      "3017453965568\n"
     ]
    }
   ],
   "source": [
    "print(list3)\n",
    "print(id(list3))\n",
    "print(listA)\n",
    "print(id(listA))"
   ]
  },
  {
   "cell_type": "code",
   "execution_count": 28,
   "id": "b8496ed3",
   "metadata": {},
   "outputs": [],
   "source": [
    "list4=listA.copy()"
   ]
  },
  {
   "cell_type": "code",
   "execution_count": 30,
   "id": "01cf56c8",
   "metadata": {},
   "outputs": [
    {
     "name": "stdout",
     "output_type": "stream",
     "text": [
      "[2, 5, 1, 7]\n",
      "3017453993728\n",
      "[2, 5, 1, 7]\n",
      "3017454856832\n"
     ]
    }
   ],
   "source": [
    "print(list4)\n",
    "print(id(list4))\n",
    "print(listA)\n",
    "print(id(listA))"
   ]
  },
  {
   "cell_type": "code",
   "execution_count": 34,
   "id": "487ab8d1",
   "metadata": {},
   "outputs": [],
   "source": [
    "# appending\n",
    "list5=[]\n",
    "for item in listA:\n",
    "    list5.append(item)\n",
    "    "
   ]
  },
  {
   "cell_type": "code",
   "execution_count": 35,
   "id": "e8ab0ee7",
   "metadata": {},
   "outputs": [
    {
     "name": "stdout",
     "output_type": "stream",
     "text": [
      "[2, 5, 1, 7]\n",
      "3017454887232\n",
      "[2, 5, 1, 7]\n",
      "3017454856832\n"
     ]
    }
   ],
   "source": [
    "print(list5)\n",
    "print(id(list5))\n",
    "print(listA)\n",
    "print(id(listA))"
   ]
  },
  {
   "cell_type": "markdown",
   "id": "95b3d492",
   "metadata": {},
   "source": [
    "# occurance of element in the list"
   ]
  },
  {
   "cell_type": "code",
   "execution_count": 48,
   "id": "8d2e959c",
   "metadata": {},
   "outputs": [
    {
     "name": "stdout",
     "output_type": "stream",
     "text": [
      "2\n",
      "1\n"
     ]
    }
   ],
   "source": [
    "target=int(input())\n",
    "count=0\n",
    "for element in listA:\n",
    "    if(element==target):\n",
    "        count+=1\n",
    "print(count)\n",
    "        "
   ]
  },
  {
   "cell_type": "code",
   "execution_count": 50,
   "id": "d6b66446",
   "metadata": {},
   "outputs": [
    {
     "name": "stdout",
     "output_type": "stream",
     "text": [
      "2 has occured 1 times\n"
     ]
    }
   ],
   "source": [
    "count=listA.count(target)\n",
    "print(\"{} has occured {} times\".format(target,count))"
   ]
  },
  {
   "cell_type": "markdown",
   "id": "408661fa",
   "metadata": {},
   "source": [
    "# sum and average of a list"
   ]
  },
  {
   "cell_type": "code",
   "execution_count": 54,
   "id": "85b15341",
   "metadata": {},
   "outputs": [],
   "source": [
    "listB=[22,22,22,22,21]"
   ]
  },
  {
   "cell_type": "code",
   "execution_count": 55,
   "id": "67e8e5dc",
   "metadata": {},
   "outputs": [
    {
     "name": "stdout",
     "output_type": "stream",
     "text": [
      "sum of the element of listB is 109 and avrage of the listB element is 21.8\n"
     ]
    }
   ],
   "source": [
    "sum=0\n",
    "avg=0\n",
    "\n",
    "for i in listB:\n",
    "    sum =sum+i\n",
    "avg=sum/len(listB)\n",
    "\n",
    "print(\"sum of the element of listB is {} and avrage of the listB element is {}\".format(sum,avg))"
   ]
  },
  {
   "cell_type": "markdown",
   "id": "fcaec708",
   "metadata": {},
   "source": [
    "# checking for string symetrical"
   ]
  },
  {
   "cell_type": "code",
   "execution_count": 2,
   "id": "84ddd2e2",
   "metadata": {},
   "outputs": [
    {
     "name": "stdout",
     "output_type": "stream",
     "text": [
      "aaaaaaaaaaaaaaaa ssssssssssd\n",
      "string is symetrical\n",
      "string is not symetrical\n"
     ]
    }
   ],
   "source": [
    "strA=input()\n",
    "listA=strA.split(' ')\n",
    "for str1 in listA:\n",
    "    \n",
    "    n=len(str1)\n",
    "    if n%2:\n",
    "        mid=n//2+1\n",
    "    else:\n",
    "        mid=n//2\n",
    "    start=0\n",
    "    start2=mid\n",
    "    end=n-1\n",
    "    flag=0\n",
    "    while(start<mid and mid<end):\n",
    "        if(str1[start]==str1[start2]):\n",
    "            start=start+1\n",
    "            start2=start2+1\n",
    "        else:\n",
    "            flag=1\n",
    "            break\n",
    "    if(flag==0):\n",
    "        print(\"string is symetrical\")\n",
    "    else:\n",
    "        print(\"string is not symetrical\")\n",
    "\n",
    "    \n",
    "        "
   ]
  },
  {
   "cell_type": "code",
   "execution_count": 3,
   "id": "52f0b983",
   "metadata": {},
   "outputs": [
    {
     "name": "stdout",
     "output_type": "stream",
     "text": [
      "aaaaaaaaaaaaaa aaaaaaaaaaaad\n",
      "string is palindrome\n",
      "string is not palindrome\n"
     ]
    }
   ],
   "source": [
    "strb=input()\n",
    "listB=strb.split(' ')\n",
    "for str2 in listB:\n",
    "    \n",
    "    n=len(str2)\n",
    "    if n%2:\n",
    "        mid=(n-1)//2+1\n",
    "    else:\n",
    "        mid=(n-1)//2\n",
    "    start=0\n",
    "    end=n-1\n",
    "    flag=0\n",
    "    while(start<=mid):\n",
    "        if(str2[start]==str2[end]):\n",
    "            start=start+1\n",
    "            end=end-1\n",
    "        else:\n",
    "            flag=1\n",
    "            break\n",
    "    if(flag==0):\n",
    "        print(\"string is palindrome\")\n",
    "    else:\n",
    "        print(\"string is not palindrome\")"
   ]
  },
  {
   "cell_type": "code",
   "execution_count": null,
   "id": "c572e1b0",
   "metadata": {},
   "outputs": [],
   "source": []
  },
  {
   "cell_type": "code",
   "execution_count": null,
   "id": "611c5b94",
   "metadata": {},
   "outputs": [],
   "source": []
  }
 ],
 "metadata": {
  "kernelspec": {
   "display_name": "Python 3 (ipykernel)",
   "language": "python",
   "name": "python3"
  },
  "language_info": {
   "codemirror_mode": {
    "name": "ipython",
    "version": 3
   },
   "file_extension": ".py",
   "mimetype": "text/x-python",
   "name": "python",
   "nbconvert_exporter": "python",
   "pygments_lexer": "ipython3",
   "version": "3.9.13"
  }
 },
 "nbformat": 4,
 "nbformat_minor": 5
}
